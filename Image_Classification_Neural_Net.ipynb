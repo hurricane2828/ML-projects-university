{
 "cells": [
  {
   "cell_type": "markdown",
   "metadata": {},
   "source": [
    "# Coursework 1 - Mathematics for Machine Learning"
   ]
  },
  {
   "cell_type": "markdown",
   "metadata": {},
   "source": [
    "## 01703699\n",
    "\n",
    "**Colab link:** [(https://colab.research.google.com/drive/1_9qR_pEiG28HpvQspX-xb7yxrQMiiQX0#scrollTo=ymUZlTbwIYCE)]\n",
    "\n",
    "***\n",
    "***"
   ]
  },
  {
   "cell_type": "markdown",
   "metadata": {},
   "source": [
    "## Part 1: Quickfire questions [3 points]"
   ]
  },
  {
   "cell_type": "markdown",
   "metadata": {},
   "source": [
    "### Question 1 (True risk / Empirical risk):\n",
    "Let $D$ be the  $\\textbf{(unknown)}$ distribution of our data with $N$ points of the form $(x_i,y_i)_{i=1,...,N}$.\n",
    "\n",
    "Let $L$ be a chosen loss function.\n",
    "The true risk is defined as $$R(f)=\\mathbb{E}_D[L(f(x),y)].$$ True risk assumes that the model has an underlying distribution and is applied to the entire population.\n",
    "\n",
    "\n",
    "The empirical risk is $$\\hat{R}(f)=\\frac{1}{N}\\sum_{i=1}^NL(f(x^i),y^i).$$ It looks at the average loss over the finite sampled data points. Depending on the biases of the data, this model might not reflect the true performance on unseen examples.\n",
    "\n",
    "The key information that binds them together is that the expectation of the empirical risk is equal to true risk (very useful since we can't say much about $D$) $$\\mathbb{E}[\\hat{R}(f)]=R(f).$$\n"
   ]
  },
  {
   "cell_type": "markdown",
   "metadata": {},
   "source": [
    "### Question 2 ('Large' or 'rich' hypothesis class):\n",
    "We have that  $$R(f)\\leq \\hat{R}(f)+\\sqrt{\\frac{\\log|\\mathcal{F}|+\\log{\\frac{2}{\\delta}}}{2N}}$$ where $\\mathcal{F}$ where $R$ is the true risk and $\\hat{R}$ is the empirical risk. There is a trade-off between the data set $D^N$ and hypothesis class.\n",
    "A larger hypothesis class $|\\mathcal{F}|$ will increase the bound between the risks, but only logarithmically. \n",
    "\n",
    "There are cases where we would be interested in having a 'rich' hypothesis class, depending on the features we are looking for. This is decided in a case by case scenario.\n",
    "\n",
    "An example of a not always useful hypothesis class could be $f:\\Chi\\rightarrow \\{0,1\\}$. The bound will then be defined only by the size of the dataset, however, one can see that a binary model has limited applicability.\n",
    "\n",
    "Lastly, convergence in neural nets are based on the fact  that we have local convergence in the case when the data set is large enough. Normally convergence is guaranteed globally with smooth and convex functions, however, the further we go from that, the more we depend on the scale of data to make approximations. This is a case where we would deprioritize a large hypothesis class in the detriment of data."
   ]
  },
  {
   "cell_type": "markdown",
   "metadata": {},
   "source": [
    "### Question 3 (Dataset splitting):\n",
    "\n",
    "It is fair to expect either a similar performance as the validation set. However, that may not always be attainable due to the size of data available.\n",
    "\n",
    "What do we do when we get a different result? The first step is to check for model overfitting. Then consider whether your data sample is representative by looking at the variance on the cross-validation sets. Lastly, check whether the algorithm exhibits high stochasticity."
   ]
  },
  {
   "cell_type": "markdown",
   "metadata": {},
   "source": [
    "### Question 4 (Occam’s razor):\n",
    "\n",
    "Occam's razor relates to model choice. It states that if we have to choose between multiple hypothesis that fit the data very well, we should go with the simplest one. "
   ]
  },
  {
   "cell_type": "markdown",
   "metadata": {},
   "source": [
    "### Question 5 (Generalisation error):\n",
    "\n",
    "The generalisation error is defined as the difference between true risk and empirical risk $$= R(f)-\\hat{R}(f)$$ which has a well known bound that depends on the hypothesis class and data size. We are in a case of bias-variance trade-off and want to optimize for minimal error. Let's get more empirical about it. Suppose we have a sequence of models that increase in complexity $\\mathcal{F}_1\\subset\\mathcal{F}_2\\subset....$. There is a point after which increasing the features will only lead to worse approximations, hence higher generalisation error. Define $f_*=\\text{argmin}_{f\\in\\mathcal{F}_i}R(f_i^*)$.\n",
    "\n",
    "We have that with probability at least $1-\\delta$, $$R(f^*)\\leq\\text{min}_{f\\in\\mathcal{F}(f)}R(f)+2\\sqrt{\\frac{1}{2N}\\log{ \\frac {2|\\mathcal{F}|} {\\delta} }} $$ \n",
    "This says that when we are taking the function $f^*$ which minimizes the empirical risk, then the true risk of $f^*$ will not be too much worse than the true risk of the best function.\n",
    "\n",
    "Next, if we set $n\\geq \\frac{1}{2\\epsilon^2}\\log{\\frac{2|\\mathcal{F}|}{\\delta}}$ then $|R(f)-\\hat{R}(f)|\\leq\\epsilon$. Esentially, we can take $\\epsilon$ no matter how small, we can guarantee with a high probability that our bound is very small. The penalty lies in $n$.\n",
    "\n",
    "\n",
    "For a good model we want this to be small because we are approximating the estimation error with the generalisation error $$R(f)-R(f^*)\\leq 2 \\text{sup}_{f\\in\\mathcal{F}}|R(f)-\\hat{R}(f)|$$\n"
   ]
  },
  {
   "cell_type": "markdown",
   "metadata": {},
   "source": [
    "### Question 6 (Rademacher complexity pt1):\n",
    "\n",
    "The Rademacher complexity captures the richness of a family of functions by measuring the degree to which a hypothesis set can fit random noise. \n",
    "\n",
    "High Rademacher complexity indicates that the hypothesis set $\\mathcal{G}$ is flexible and complex enough to accomodate random noise in the data. However, this flexibility can lead to overfitting, which in turn may lead to  poor generalization over unseen data.\n",
    "\n",
    "We also want to avoid too much complexity, which can be mitigated by regularization.\n",
    "\n",
    "\n",
    "This works using the following principle:\n",
    "We have a $G$ family of functions that map from $Z$ to $[a,b]$\n",
    "\n",
    "$S=(z_1,...z_m)$ a fixed sample of size $m$ of elements in $Z$.\n",
    "\n",
    "Let $\\sigma=(\\sigma_1,...\\sigma_m)^T$ with \n",
    "$\\sigma_i$'s independent uniform random variables taking values in $\\{-1,+1\\}$.\n",
    "\n",
    "Then $$\\hat{\\mathcal{R}_S}(G)=\\mathbb{E}_{\\sigma}\\left[\\text{sup}_{g\\in G}\\frac{1}{m}\\sum_{i=1}^{m}\\sigma_i g(z_i)\\right]$$\n",
    "\n",
    "Here $\\sigma_ig_i(z_i)$ can be thought of as the correlations of the predictions with the labels.\n",
    "Sample $\\sigma_i$, $i=1,...m$. \n",
    "\n",
    "Look for the $g\\in \\mathcal{G}$ that best fits the randomly sample noise. This maximizes $\\frac{1}{m}\\sum_{i=1}^m\\sigma_ig(z_i)$. A perfect fit would be very close to $1$ while a bad fit would be close to $0$.\n"
   ]
  },
  {
   "cell_type": "markdown",
   "metadata": {},
   "source": [
    "### Question 7 (Rademacher complexity pt2):\n",
    "\n",
    "Rademacher complexity is another method that can be used to bound the generalisation error to measure the richness of a function class. It captures the complexity of a function class in terms of its ability to fit random noise.\n",
    "\n",
    "Let $G$ be a family of functions mapping $Z$ to $[0,1]$. Then, for any $\\sigma>0$, with probability at $1-\\sigma$. Both statements hold for all $g\\in G$: \n",
    "\n",
    "$$E[g(z)]\\leq\\frac{1}{m}\\sum_{i=1}^mg(z_i)+2\\mathcal{R}_m(G)+\\sqrt{\\frac{\\log{\\frac{1}{\\sigma}}}{2m}}$$\n",
    "\n",
    "and\n",
    "\n",
    "$$E[g(z)]\\leq\\frac{1}{m}\\sum_{i=1}^mg(z_i)+2\\hat{\\mathcal{R}}_S(G)+3\\sqrt{\\frac{\\log{\\frac{2}{\\sigma}}}{2m}}$$"
   ]
  },
  {
   "cell_type": "markdown",
   "metadata": {},
   "source": [
    "### Question 8 (Regularisation term in the loss function):\n",
    "\n",
    "$L1$ regularisation (Lasso), $L2$ regularisation (Ridge), dropout and adding noise during training are common regularisation methods.\n",
    "\n",
    "In this example $$L(\\theta)=\\frac{1}{N}\\sum_{i=1}^N||f_{\\theta}(x_i)-y_i||_2^2 + \\lambda \\theta^T\\theta$$ \n",
    "the term $\\lambda \\theta^T\\theta$ is the regularisation term.\n",
    "\n",
    "We do this in order to avoid overfitting, improve generalization (by discouraging complex models that only capture the most important patterns) and increase robustness (which ensures that noise and outliers do not give very different results)."
   ]
  },
  {
   "cell_type": "markdown",
   "metadata": {},
   "source": [
    "### Question 9 (Momentum gradient descent):\n",
    "\n",
    "Normal gradient descent has $$x_{k+1}=x_k-\\alpha_k\\nabla f(x_k).$$ \n",
    "Momentum gradient descent has $$x_{k+1}=x_k-\\alpha z_{k+1}$$\n",
    "$$z_{k+1}=\\beta z_k+\\nabla f(x_k)$$\n",
    "This encapsulates the following properties: \n",
    "1. If the direction is fine, it increases stepsize\n",
    "2. If it oscilates too much, it decreases stepsize\n",
    "\n",
    "The problems it avoids are the following: \n",
    "1. It escapes from local minima and saddle points (by decreasing stepsize)\n",
    "2. It smoothes out oscillations\n",
    "3. It may achieve faster convergence (by increasing speed)"
   ]
  },
  {
   "cell_type": "markdown",
   "metadata": {},
   "source": [
    "### Question 10 (Adam):\n",
    "\n",
    "Adam is a type of stochastic optimisation that uses the second and first-order momentum to update gradient descent.\n",
    "\n",
    "One of the key features of Adam is its adaptive learning rate mechanism. It computes individual learning rates for each parameter based on the magnitudes of past gradients and squared gradients.\n",
    "\n",
    "In terms of momentum it operates similarly to momentum gradient descent: it maintains an exponentially decaying moving average of past gradients and their squared values. (taken from RMSprop)"
   ]
  },
  {
   "cell_type": "markdown",
   "metadata": {},
   "source": [
    "### Question 11 (AdaGrad):\n",
    "\n",
    "AdaGrad's name comes from ADAptive GRADient. It adapts the learning rate depending on the geometry of the problem: gives higher learning rates to infrequent features, prioritizing relevance over frequence. Its main drawback is that can sometimes slow down prematurely which in turn hijacks the speed of convergence.\n",
    "\n",
    "Inputs $f(x), f_t(x), g_t(x)  (\\text{ or } \\nabla_x f_t(x)), x_t, G_t$\n",
    "\n",
    "Update rule: $x_{t+1}=x_t +\\eta\\text{diag}(G_t)^{-1/2}g_t$\n",
    "\n",
    "It could be thought of as a premature version of Adam."
   ]
  },
  {
   "cell_type": "markdown",
   "metadata": {},
   "source": [
    "### Question 12 (Decaying Learning Rate):\n",
    "\n",
    "If the learning rate is too high and the objective function has a lot of curvature, then the gradient descent will oscillate lots. In sub-optimal cases it can miss the solution and get stuck (in a local minima or a saddle point) or not converge at all.\n",
    "\n",
    "Decaying learning rate prevents that from happening. Additionally, it smoothens the trajectory in the loss landscape and the descent seems more controlled.\n",
    "\n",
    "DLR assumes that at the begining of the learning the solution is far and so a high learning rate is beneficial. As the learning progresses the optimizers has to move more delicately to access more difficult areas in the landscape."
   ]
  },
  {
   "cell_type": "markdown",
   "metadata": {},
   "source": [
    "*** \n",
    "***\n",
    "\n",
    "## Part 2: Short-ish proofs [6 points]"
   ]
  },
  {
   "cell_type": "markdown",
   "metadata": {},
   "source": [
    "\n",
    "### Question 2.1: Bounds on the risk [1 point]\n"
   ]
  },
  {
   "cell_type": "markdown",
   "metadata": {},
   "source": [
    " 1. Hoeffding's inequality: Let $X_1,X_2,...X_m$ be independent random variables with $X_i$ taking values in $[a_i,b_i]$ for all $i\\in{1,2,...m}$. Then for any $\\epsilon>0$, the following inequalities hold for $S_m=\\sum_{i=1}^mX_i$: $$P[S_m-\\mathbb{E}[S_m]\\geq \\epsilon]\\leq \\exp\\left({\\frac{-2\\epsilon^2}{\\sum_{i=1}^m (b_i-a_i)^2}}\\right)$$ and  $$P[S_m-\\mathbb{E}[S_m]\\leq -\\epsilon]\\leq \\exp\\left({\\frac{-2\\epsilon^2}{\\sum_{i=1}^m (b_i-a_i)^2}}\\right)$$ Corollary $4.6$ says that: for $\\epsilon>0$ and $D^N$ i.i.d. sample of size $N$. Then, for any hypothesis $f:X\\rightarrow \\{0,1\\}$, the following inequalities hold: $$P_{D^N}[\\hat{R}(f)-R(f)\\geq \\epsilon]\\leq \\exp\\left({-2N\\epsilon^2}\\right)$$ $$P_{D^N}[\\hat{R}(f)-R(f)\\leq -\\epsilon]\\leq \\exp\\left({-2N\\epsilon^2}\\right)$$     How do we get from the first inequality to the second? \n",
    "    \n",
    "    By setting the $X_i=\\frac{1}{N}L(f(x_i),y_i)$ for $i=1,...,N$ (note that $N=m$) and then \n",
    "    \n",
    "    $S_N=\\frac{1}{N}\\sum_{i=1}^NL(f(x_i),y_i)=\\hat{R}(f)$ which is exactly the empirical risk. \n",
    "\n",
    "    Now, use that $\\mathbb{E}[\\hat{R}(f)]=R(f)$ so $\\mathbb{E}[S_N]=R(f)$ which is exactly what we need.\n",
    "\n",
    "    Now there is one more modification that we have to make to obtain $\\exp\\left({-2N\\epsilon^2}\\right)$ on the right-hand side of the inequality: We use the fact that the codomain of $X_i$ with $i=1,...,N$ is $\\{0,\\frac{1}{N}\\}$ and not $\\{0,1\\}$.\n",
    "    So $$\\exp\\left({\\frac{-2\\epsilon^2}{\\sum_{i=1}^{N} (b_i-a_i)^2}}\\right)=\\exp\\left({\\frac{-2\\epsilon^2}{\\sum_{i=1}^N (0-\\frac{1}{N})^2}}\\right)=\\exp\\left({-2N\\epsilon^2}\\right)$$ Using these substitutions we obtain exactly the corollary we wanted to obtain.\n",
    "\n",
    "\n",
    "2. A straight-forward if we combine both inequalities in the corollary we have that $$P_{D^N}[ | \\hat{R}(f)-R(f) | \\leq \\epsilon]\\leq 2\\exp\\left({-2N\\epsilon^2}\\right)$$ \n",
    "\n",
    "\n",
    "3. Theorem $4.8$ finds a bound between empirical risk and true risk: let $\\mathcal{F}$ be a finite hypothesis set. Then, for any $\\delta>0$, with probability at least $1-\\delta$, the following inequality holds for any $f\\in\\mathcal{F}$, $$R(f)\\leq \\hat{R}(f)+\\sqrt{\\frac{\\log|\\mathcal{F}|+\\log{\\frac{2}{\\delta}}}{2N}}    (\\text{Theorem } 4.8)$$ where $\\mathcal{F}$ is the class of hypothesis. $\\mathcal{F}$ is the function class of outputs that we can extract from our imput data. The size of the  class is indicative on how many features we can extract from the data. This could be, for example, a binary classificaton model. Notice how our bound increases with exponential increase of function class. This means that we are contstraint between how detailed we want to be in our prediction versus how accurate we want to be. The size of the sample matters as well, as seen in the same formula. We are able to escape this by increasing the data sample, but that has to be done also exponentially, which might not be feasible.\n"
   ]
  },
  {
   "cell_type": "markdown",
   "metadata": {},
   "source": [
    "***\n",
    "\n",
    "### Question 2.2: On semi-definiteness [1 point]"
   ]
  },
  {
   "cell_type": "markdown",
   "metadata": {},
   "source": [
    "Let $x\\in \\mathbb{R}^d$. Remember definition of convexity $$f(y)\\geq f(x)+\\nabla f(x)^T(y-x).$$ We want to show that $v^T\\nabla^2f(x)v\\geq 0$. We can use that in the one dimensional case $f''(x)\\geq 0$.\n",
    "\n",
    "Define $g(t)=f(x+tv)$ for an arbitrary direction $v\\in \\mathbb{R}^d$. We want to show that this is convex and twice differentiable and use that in our proof for $f$.\n",
    "\n",
    "First, for convexity of $g$: \n",
    "\n",
    "Check that $g(\\alpha a +(1-\\alpha)b)\\leq \\alpha g(a)+(1-\\alpha)g(b) \\iff$\n",
    "$$f\\left(x+(\\alpha a +(1-\\alpha)b)v\\right)\\leq \\alpha f(x+av)+(1-\\alpha)f(x+bv) \\iff $$\n",
    "\n",
    "$f(\\alpha (x+av)+(1-\\alpha)(x+bv)) \\leq \\alpha f(x+av)+(1-\\alpha)f(x+bv)$ which is true by the convexity of $f$.\n",
    "\n",
    "Now we attempt to obtain the first differential for $g$.\n",
    "\n",
    "$$\\frac{g(t)-g(t_0)}{t-t_0}=\\frac{f(x+tv)-f(x+t_0v)}{t-t_0}.$$\n",
    "\n",
    "We use the first order inequality for convexity:\n",
    "$$f(x+tv)-f(x+t_0v)\\geq \\nabla f(x+t_0v)^T(t-t_0)v $$\n",
    "$$f(x+t_0v)-f(x+tv)\\geq \\nabla f(x+tv)^T(t_0-t)v $$\n",
    "\n",
    "And obtain double inequality for $t > t_0$:\n",
    "$$\\nabla f(x+t_0v)^Tv  \\leq \\frac{g(t)-g(t_0)}{t-t_0}  \\leq \\nabla f(x+tv)^Tv$$ \n",
    "for all $t$ with $t_0<t$. \n",
    "Now take $t\\rightarrow t_0$ (and similarly for $t<t_0$) and obtain proof of existance and explicit solution for $g'(t_0)$:\n",
    "$$g'(t_0)=\\nabla f(x+t_0v)^Tv$$\n",
    "\n",
    "Now for the second differential:\n",
    "\n",
    "$$\\frac{g'(t)-g'(t_0)}{t-t_0}=\\frac{(\\nabla f(x+tv)^T-\\nabla f(x+t_0v)^T)v}{t-t_0}$$\n",
    "\n",
    "Obtain by direct calculation: \n",
    "$$g''(t)=(\\nabla^2f(x+tv)v)^Tv$$\n",
    "\n",
    "So $g''(0)=(\\nabla^2f(x)v)^Tv$. We know that $g$ is convex and for one dimension convexity implies $g''(t)\\geq 0$ for all $t$. So $g''(0)\\geq 0$ and finally $$v^T \\nabla^2f(x)^T v\\geq 0$$ which is what we wanted.\n"
   ]
  },
  {
   "cell_type": "markdown",
   "metadata": {},
   "source": [
    "***\n",
    "\n",
    "### Question 2.3: A quick recap of momentum [1 point]"
   ]
  },
  {
   "cell_type": "markdown",
   "metadata": {},
   "source": [
    "1. We aim to express the convergence rate to the local optimum. That means obtaining an expression that contains $x_k-x^*$, where $x^*=S^{-1}b$.\n",
    "\n",
    "    The eigenvalues encapsulate the convergence speed and direction in multidimensional space.\n",
    "    Decomposition $S=Q\\text{diag} (\\lambda_1,\\lambda_2,...\\lambda_d)Q^T$ obtained by performing a change of basis $w_k=Q^T(x_k-x^*)$ breaks down the problem into $d$ smaller independent linear problems. $w_T$ is what rotates and scales the system. Using this decomposition we can make statements about whether we converge towards a direction faster than others.\n"
   ]
  },
  {
   "cell_type": "markdown",
   "metadata": {},
   "source": [
    "2. Equation $(75)$ states that $$x_k-x^*=Qw_k=\\sum_{i=1}^nw_0^i(1-\\alpha\\lambda_i)^kq_i.$$\n",
    "     The rate of convergence for a direction $q_i$ is $|1-\\alpha\\lambda_i|$. The closer this rate is to $1$, the slower the convergence. Moreover, if it surpasses $1$, then we cannot talk about a convergence behaviour at all.\n",
    "     \n",
    "      If the convergence rates are different then it is determined by the slowest component which can be either $\\lambda_{\\text{min}}$ or $\\lambda_{\\text{max}}$. There are multiple downsides that resign either in the assumption about the function $f$ or its behaviour towards the optimum. \n",
    "\n",
    "      Firstly, there is a trade-off between convergence rates in different directions depending on how we choose the stepsize $\\alpha$. We cannot always guarantee equal convergence rates in all directions.\n",
    "      \n",
    "      Secondly, we made an assumption on $f$ being of the form $\\frac{1}{2}x^TSx-b^Tx$. This can be impractical when it comes to more irregular and less smooth objects.\n",
    "      \n",
    "    \n",
    "\n"
   ]
  },
  {
   "cell_type": "markdown",
   "metadata": {},
   "source": [
    "\n",
    "3. Equation $(85)$ states that    $$\\begin{bmatrix}\n",
    "        w_{k+1}^i \\\\\n",
    "        y_{k+1}^i\n",
    "    \\end{bmatrix}=R^{k+1}\\begin{bmatrix}\n",
    "    w_0^i \\\\\n",
    "    y_0^i\n",
    "    \\end{bmatrix}\\text{ where } R=\\begin{bmatrix}\n",
    "        1-\\alpha\\lambda_i& -\\alpha\\beta\\\\\n",
    "       \\alpha_i & \\beta\n",
    "    \\end{bmatrix}.$$\n",
    "     $R$ is the update matrix that stores the coefficients for the recurrent system that contains the position and momentum $(y,w)$.\n",
    "     \n",
    "    $(y,w)$ is equivalent to $(x,z)$ after we performed the change of basis $w_k=Q^T(x_k-x^*)$ and $y_k=Q^Tz_k$ in the initial system $$ x_{k+1}=x_k-\\alpha z_{k+1} \\\\ z_{k+1}=\\beta z_{k}+(Sx_{k}-b).$$  \n",
    "    \n",
    "    $R$ captures information about the convergence and also stability for the system through its eigenvalues.\n",
    "    For convergence we require its eigenvalues to have magnitude less than $1$. Otherwise, we might end up with divergent or oscillatory behaviour. How do we get this information empirically? By looking on whether $R^k$ goes to zero fast.\n",
    "    \n"
   ]
  },
  {
   "cell_type": "markdown",
   "metadata": {},
   "source": [
    "4. This step is about how the eigenvalues actually impact the speed in which $R^k$ goes to 0.\n",
    "    In order to compute $R^k$ we have to diagonalize $R$ using $P$ ($P$ orthogonal). Then $$R=P\\text{diag}(e_1,e_2)P^{-1}$$ where $e_1,e_2$ are the eigenvalues. We have that  $$\\left|\\left|\\begin{bmatrix}\n",
    "        w_{k+1}^i \\\\\n",
    "        y_{k+1}^i\n",
    "        \\end{bmatrix}\\right|\\right|=\\left|\\left|R^{k+1}\\begin{bmatrix}\n",
    "        w_0^i \\\\\n",
    "        y_0^i\n",
    "        \\end{bmatrix}\\right|\\right|\\leq \\text{max}(e_1,e_2)^{k+1}\\left|\\left|\\begin{bmatrix}\n",
    "        w_0^i \\\\\n",
    "        y_0^i\n",
    "        \\end{bmatrix}\\right|\\right|$$\n",
    "        This provides the reason to why we look at the eigenvalues.\n",
    "        Now, in oder to compute them, calculate the roots of the characteristic polynomial given by $$\\text{det}(eI-R)=0$$  This has the discriminant $$\\Delta=(\\beta+1-\\alpha\\lambda_i)^2-4\\beta.$$\n",
    "        We want it to be strictly negative so that the eigenvalues are complex conjugates of each other. This means that they are equal in amplitude (and less than $1$). \n",
    "        The convergence behvaiour in this case is favourable since it displays low frequency ripples and a  rate of $\\sqrt{\\beta}$ which is independent of the stepsize and eigenvalues $\\lambda_i$.\n"
   ]
  },
  {
   "cell_type": "markdown",
   "metadata": {},
   "source": [
    "***\n",
    "\n",
    "### Question 2.4: Convergence proof [3 points]"
   ]
  },
  {
   "cell_type": "markdown",
   "metadata": {},
   "source": [
    "1. Newton's gradient descent is a form of gradient descent $$x_{k+1}=x_k-\\alpha\\nabla f(x_k)$$ that has the stepsize $\\alpha=(\\nabla^2 f(x_k))^{-1}$ equal to the inverse of the Hessian: $$x_{k+1}=x_k-(\\nabla^2 f(x_k))^{-1}\\nabla f(x_k).$$ The key assumption that we make is that the Hessian has an inverse.\n"
   ]
  },
  {
   "cell_type": "markdown",
   "metadata": {},
   "source": [
    "\n",
    "2. $f(x)=\\frac{1}{2}x^TQx+b^Tx+c$ with $x\\in\\mathbb{R}^d$ and $Q≻0$. We aim to find  the critical point of $f(x)$ using Newton's method.\n",
    "    Suppose we are at $x_0$.\n",
    "\n",
    "    Calculate the gradient: $\\nabla f(x_0)=Qx_0+b$\n",
    "\n",
    "    Calculate the Hessian: $\\nabla^2 f(x_0)=Q$\n",
    "\n",
    "    Stepsize: $Q^{-1}$\n",
    "    \n",
    "    Newton's Method: $x_1=x_0-Q^{-1}(Qx_k+b)$ to obtain $$x_1=-Q^{-1}b$$ which is independent of the initial guess $x_0$. Check by pluging in that $x_2=x_1=-Q^{-1}b$ and so on.\n",
    "    Thus Newton's method converges in a single step.\n",
    "    \n"
   ]
  },
  {
   "cell_type": "markdown",
   "metadata": {},
   "source": [
    "3. The result above states that under sufficient conditions Newton's method will converge in a single step. The conditions must satisfy smoothness of $f$ and existence of a global optimum and a ball in which the Hessian is invertible. This is important since it does not matter in which area of $B(x^*,\\epsilon)$ we start.\n",
    "    \n",
    "     However, the conditions restrict $f$ severely. In practice we do not operate always with smooth functions. Another issue with the method is that computing the Hessian can be costly. Regardless, this result can be particularly advantageous in situations where computational resources are limited or when rapid convergence is essential.\n",
    "     \n"
   ]
  },
  {
   "cell_type": "markdown",
   "metadata": {},
   "source": [
    "4. Let's use the first iteration of Newton's method: $$x_1=x_0-(\\nabla^2f(x_0))^{-1}\\nabla f(x_0).$$ Next, apply Lemma $0.1$ for $$A=(\\nabla^2 f(x_0))^{-1}\\text{ and }x=\\nabla^2 f(x_0)(x_0-x^*)-\\nabla f(x_0)$$ then $$||Ax||\\leq ||A||\\cdot ||x||$$ becomes: $$||(x_0-x^*)-\\nabla f(x_0)(x_0-x^*)||=||x_1-x^*||\\leq ||\\nabla^2f(x_0)^{-1}||\\cdot||\\nabla^2f(x_0)(x_0-x^*)-\\nabla f(x_0)||$$ which is exactly what we wanted.\n"
   ]
  },
  {
   "cell_type": "markdown",
   "metadata": {},
   "source": [
    "\n",
    "5. We want to use $4$\n",
    "        Let's expand $\\nabla f(x^*):$\n",
    "        $$\\nabla f(x^*)=\\nabla f(x_0)+\\nabla^2f(x_0)(x^*-x_0)+(x^*-x_0)^TL(\\eta)(x^*-x_0)$$. Where $L(\\eta)$ with $\\eta\\in B(x_0,\\epsilon)$ We also know that $\\nabla f(x^*)=0$\n",
    "        Now plug that in the above inequality to obtain: \n",
    "        $$||x_1-x^*||\\leq ||(\\nabla^2f(x_0))^{-1}||\\cdot ||(x^*-x_0)^TL(x^*-x_0)||=||(\\nabla^2f(x_0)^{-1})||\\cdot||L|| \\cdot ||x^*-x_0||^2$$ which is exactly what we want for $c_1=||(\\nabla^2f(x_0))^{-1}||$ and $c_2=||L(\\eta)||$.\n",
    "        \n"
   ]
  },
  {
   "cell_type": "markdown",
   "metadata": {},
   "source": [
    "6. $x_0\\in B(x^*,\\epsilon)$ satisfies $$||x_0-x^*||\\leq\\frac{\\alpha}{c_1c_2}$$ for some $0<\\alpha<1$. From the previous exercise $$||x_1-x^* ||\\leq c_1c_2||x_0-x^*||^2\\leq c_1c_2\\frac{\\alpha^2}{(c_1c_2)^2}=\\frac{\\alpha^2}{c_1c_2}.$$\n",
    "    But $\\alpha \\in (0,1)$ so $$\\alpha^2\\leq\\alpha$$ which immediatly implies $$||x_1-x^*||\\leq\\frac{\\alpha}{c_1c_2}$$\n"
   ]
  },
  {
   "cell_type": "markdown",
   "metadata": {},
   "source": [
    "\n",
    "7. We have that for $||x_k-x^*||\\leq \\frac{\\alpha}{c_1c_2}$. We know that $$||x_{k+1}-x^*||\\leq c_1c_2||x_k-x^*||^2.$$ Then apply the same identity twice to get $$||x_{k+1}-x^*||\\leq c_1c_2 ||x_k-x^*|| \\cdot ||x_k-x^*||\\leq c_1c_2 \\frac{\\alpha}{c_1c_2}\\frac{\\alpha}{c_1c_2}=\\frac{\\alpha^2}{c_1c_2}$$\n",
    "\n"
   ]
  },
  {
   "cell_type": "markdown",
   "metadata": {},
   "source": [
    "8. We use the inequality $||x_{k+1}-x^*||\\leq c_1c_2||x_k-x^*||^2$ and the initial condition $||x_0-x^*||\\leq \\frac{\\alpha}{c_1 c_2}$. The latter is equivalent to $c_1c_2\\leq \\frac{\\alpha}{||x_0-x^*||^2} $ (given that we did not start at $x^*$).\n",
    "\n",
    "Then $||x_{k+1}-x^*||\\leq c_1c_2||x_k-x^*||^2\\leq \\frac{\\alpha}{||x_0-x^*||^2}||x_k-x^*||^2 =C||x_k-x^*||^2$ provided that we started in the vicinity of $x^*$. Then, the convergence is quadratic by definition."
   ]
  },
  {
   "cell_type": "markdown",
   "metadata": {},
   "source": []
  },
  {
   "cell_type": "markdown",
   "metadata": {},
   "source": [
    "***\n",
    "***\n",
    "\n",
    "## Part 3: A deeper dive into neural network implementations [3 points]"
   ]
  },
  {
   "cell_type": "code",
   "execution_count": 1,
   "metadata": {},
   "outputs": [],
   "source": [
    "# Import libraries\n",
    "import numpy as np\n",
    "import torch\n",
    "import torch.nn as nn\n",
    "import torchvision\n",
    "\n",
    "import torchvision.transforms as transforms\n",
    "import matplotlib.pyplot as plt\n",
    "import torch.optim as optim\n",
    "\n",
    "import pandas as pd\n",
    "import seaborn as sns\n",
    "\n",
    "import torch.utils.data as data\n",
    "\n"
   ]
  },
  {
   "cell_type": "code",
   "execution_count": 2,
   "metadata": {},
   "outputs": [
    {
     "name": "stdout",
     "output_type": "stream",
     "text": [
      "Files already downloaded and verified\n",
      "Files already downloaded and verified\n"
     ]
    }
   ],
   "source": [
    "# Download datasets\n",
    "\n",
    "\n",
    "train_set_mnist = torchvision.datasets.MNIST(root=\"./\", download=True,\n",
    "                                         train=True, transform=transforms.Compose([transforms.ToTensor()]))\n",
    "\n",
    "test_set_mnist = torchvision.datasets.MNIST(root=\"./\",download=True,\n",
    "                                        train=False,transform=transforms.Compose([transforms.ToTensor()]),)\n",
    "\n",
    "train_set_cifar = torchvision.datasets.CIFAR10(root=\"./\", download=True,\n",
    "                                         train=True, transform=transforms.Compose([transforms.ToTensor()]))\n",
    "\n",
    "test_set_cifar = torchvision.datasets.CIFAR10(root=\"./\",download=True,\n",
    "                                        train=False,transform=transforms.Compose([transforms.ToTensor()]),)\n",
    "                                        "
   ]
  },
  {
   "cell_type": "code",
   "execution_count": 3,
   "metadata": {},
   "outputs": [
    {
     "data": {
      "text/plain": [
       "<torch._C.Generator at 0x198d4147f90>"
      ]
     },
     "execution_count": 3,
     "metadata": {},
     "output_type": "execute_result"
    }
   ],
   "source": [
    "# Set seed\n",
    "SEED = 1703699\n",
    "np.random.seed(SEED)\n",
    "torch.manual_seed(SEED)"
   ]
  },
  {
   "cell_type": "markdown",
   "metadata": {},
   "source": [
    "***\n",
    "\n",
    "# Part 3.1: Implementations [1 point]"
   ]
  },
  {
   "cell_type": "markdown",
   "metadata": {},
   "source": [
    "## Task 1: \n",
    "Implement a fully-connected neural network"
   ]
  },
  {
   "cell_type": "code",
   "execution_count": 151,
   "metadata": {},
   "outputs": [],
   "source": [
    "\n",
    "\"\"\"\n",
    "initialize fully connectedneural net neural network\n",
    "\"\"\"\n",
    "class Net(nn.Module):\n",
    "    def __init__(self, dim, nclass, width, depth):\n",
    "        #parent\n",
    "        super().__init__()\n",
    "        #flatten\n",
    "        self.flatten = nn.Flatten()\n",
    "        #first layer\n",
    "        self.hidden_layers = nn.ModuleList([nn.Linear(dim, width)])\n",
    "        #hidden layers\n",
    "        self.hidden_layers.extend([nn.Linear(width, width) for _ in range(depth-1)])\n",
    "        self.relu = nn.ReLU()\n",
    "        #output layer\n",
    "        self.output_layer = nn.Linear(width, nclass)\n",
    "        \n",
    "    def forward(self, input):\n",
    "        #flatten\n",
    "        x = self.flatten(input)\n",
    "\n",
    "        #hidden layers\n",
    "        for layer in self.hidden_layers:\n",
    "            x = layer(x)\n",
    "            x = self.relu(x)\n",
    "\n",
    "        #output layer\n",
    "        output = self.output_layer(x)\n",
    "        return output\n"
   ]
  },
  {
   "cell_type": "markdown",
   "metadata": {},
   "source": [
    "Above we initialized a fully-connected neural network. The function __init__() initializes all layers and the function __forward__() establishes the relations between the layers."
   ]
  },
  {
   "cell_type": "markdown",
   "metadata": {},
   "source": [
    "## Task 2:\n",
    "Implement the data loading function"
   ]
  },
  {
   "cell_type": "code",
   "execution_count": 152,
   "metadata": {},
   "outputs": [],
   "source": [
    "from torch.utils.data import DataLoader\n",
    "\n",
    "def loading_data(batch_size, train_set, test_set):\n",
    "    \"\"\" data loading function \n",
    "    \n",
    "        input: batch_size, train_set, test_set\n",
    "        output: trainloader, testloader\n",
    "    \"\"\"\n",
    "    trainloader = DataLoader(train_set, batch_size=batch_size, shuffle=True)\n",
    "    testloader = DataLoader(test_set, batch_size=batch_size, shuffle=False)\n",
    "    return trainloader, testloader\n",
    "\n",
    "\n"
   ]
  },
  {
   "cell_type": "markdown",
   "metadata": {},
   "source": [
    "__loading_data__() formats the data into appropriate network input. This helps with speed issues, as it is more costly to train a bigger input size than partitioning it into smaller batches."
   ]
  },
  {
   "cell_type": "markdown",
   "metadata": {},
   "source": [
    "## Task 3:\n",
    "Implement a function that does one training epoch"
   ]
  },
  {
   "cell_type": "code",
   "execution_count": 153,
   "metadata": {},
   "outputs": [],
   "source": [
    "def train_epoch(trainloader, net, optimizer, criterion):\n",
    "    \"\"\" training function\n",
    "    \n",
    "        input: trainloader, net, optimizer, criterion\n",
    "        output: running_loss / len(trainloader)\n",
    "    \"\"\"\n",
    "    \n",
    "    \n",
    "    net.train()  # Set the model to training mode\n",
    "    running_loss = 0\n",
    "    \n",
    "    for inputs, labels in trainloader:\n",
    "        optimizer.zero_grad()  # Zero the gradients\n",
    "        \n",
    "        # Forward pass\n",
    "        outputs = net(inputs)\n",
    "        \n",
    "        # Compute the loss\n",
    "        loss = criterion(outputs, labels)\n",
    "        \n",
    "        # Backward pass and optimization\n",
    "        loss.backward()\n",
    "        optimizer.step()\n",
    "        \n",
    "        running_loss += loss.item()\n",
    "    \n",
    "    return running_loss / len(trainloader)\n",
    "\n"
   ]
  },
  {
   "cell_type": "markdown",
   "metadata": {},
   "source": [
    "## Task 4:  \n",
    "Implement a function that does one test epoch\n"
   ]
  },
  {
   "cell_type": "code",
   "execution_count": 154,
   "metadata": {},
   "outputs": [],
   "source": [
    "def test_epoch(testloader, net, criterion):\n",
    "    \"\"\" testing function\n",
    "    \n",
    "        input: testloader, net, criterion\n",
    "        output: average_loss, error\n",
    "    \"\"\"\n",
    "    net.eval()  # Set the model to evaluation mode\n",
    "    test_loss = 0\n",
    "    total_samples = 0\n",
    "    incorrect_samples = 0\n",
    "    \n",
    "    with torch.no_grad():\n",
    "        for inputs, labels in testloader:\n",
    "            outputs = net(inputs)  # Forward pass\n",
    "            loss = criterion(outputs, labels)  # Compute the loss\n",
    "            test_loss += loss.item()\n",
    "            \n",
    "            _, predicted = torch.max(outputs.data, 1)  # Get the predicted class\n",
    "            total_samples += labels.size(0)\n",
    "            incorrect_samples += (predicted != labels).sum().item()\n",
    "    \n",
    "    average_loss = test_loss / len(testloader)\n",
    "    error = incorrect_samples / total_samples\n",
    "    \n",
    "    return average_loss, error\n"
   ]
  },
  {
   "cell_type": "markdown",
   "metadata": {},
   "source": [
    "## Task 5: \n",
    "Write a piece of code that sets the hyperparameters and that\n",
    "allows to run the train and test epochs"
   ]
  },
  {
   "cell_type": "code",
   "execution_count": 155,
   "metadata": {},
   "outputs": [
    {
     "name": "stdout",
     "output_type": "stream",
     "text": [
      "Epoch: 000 | Train Loss: 0.3407 | Test Loss: 0.185 | Test Error: 0.0551\n",
      "Epoch: 001 | Train Loss: 0.1435 | Test Loss: 0.1228 | Test Error: 0.0371\n",
      "Epoch: 002 | Train Loss: 0.09779 | Test Loss: 0.1082 | Test Error: 0.0337\n",
      "Epoch: 003 | Train Loss: 0.07397 | Test Loss: 0.09775 | Test Error: 0.0304\n",
      "Epoch: 004 | Train Loss: 0.05824 | Test Loss: 0.08323 | Test Error: 0.0263\n",
      "Epoch: 005 | Train Loss: 0.04742 | Test Loss: 0.08494 | Test Error: 0.0261\n",
      "Epoch: 006 | Train Loss: 0.04025 | Test Loss: 0.07008 | Test Error: 0.0217\n",
      "Epoch: 007 | Train Loss: 0.03291 | Test Loss: 0.1002 | Test Error: 0.0283\n",
      "Epoch: 008 | Train Loss: 0.02715 | Test Loss: 0.08332 | Test Error: 0.0223\n",
      "Epoch: 009 | Train Loss: 0.02463 | Test Loss: 0.08504 | Test Error: 0.0243\n"
     ]
    },
    {
     "data": {
      "text/plain": [
       "([0.3406838913783749,\n",
       "  0.14347990829426088,\n",
       "  0.09778658866630133,\n",
       "  0.07397053086274326,\n",
       "  0.058235347509505285,\n",
       "  0.04741740390558594,\n",
       "  0.04025286432419683,\n",
       "  0.03291012354135297,\n",
       "  0.02714960329892508,\n",
       "  0.02463121291983233],\n",
       " [0.18498703626809038,\n",
       "  0.12284765425909334,\n",
       "  0.10824544142463073,\n",
       "  0.09775091519402815,\n",
       "  0.08323159335447315,\n",
       "  0.08493866717636031,\n",
       "  0.07008258643874136,\n",
       "  0.10019506334156987,\n",
       "  0.08332289147264343,\n",
       "  0.08503911191272294],\n",
       " [0.0551,\n",
       "  0.0371,\n",
       "  0.0337,\n",
       "  0.0304,\n",
       "  0.0263,\n",
       "  0.0261,\n",
       "  0.0217,\n",
       "  0.0283,\n",
       "  0.0223,\n",
       "  0.0243])"
      ]
     },
     "execution_count": 155,
     "metadata": {},
     "output_type": "execute_result"
    }
   ],
   "source": [
    "\n",
    "def main(batch_size, train_set, test_set, dim, nclass, width, depth, learning_rate, num_epochs):\n",
    "\n",
    "    \"\"\" main function\n",
    "    \n",
    "        input: batch_size, train_set, test_set, dim, nclass, width, depth, learning_rate, num_epochs\n",
    "        output: store_trainl, store_testl, store_teste\n",
    "    \"\"\"\n",
    "    \n",
    "    # define network\n",
    "    net = Net(dim, nclass, width, depth)\n",
    "    # Define criterion and optimizer\n",
    "    criterion = nn.CrossEntropyLoss()\n",
    "    optimizer = optim.Adam(net.parameters(), lr=learning_rate)\n",
    "    # Load datasets\n",
    "    trainloader, testloader = loading_data(batch_size, train_set, test_set)\n",
    "\n",
    "\n",
    "    #Storing results\n",
    "    store_trainl=[]\n",
    "    store_testl=[]\n",
    "    store_teste=[]\n",
    "    # Train and test epochs\n",
    "    for epoch in range(num_epochs):\n",
    "       # Train epoch\n",
    "        train_loss = train_epoch(trainloader, net, optimizer, criterion)\n",
    "        # Test epoch\n",
    "        test_loss, test_err = test_epoch(testloader, net, criterion)\n",
    "\n",
    "        #store results\n",
    "        store_trainl.append(train_loss)\n",
    "        store_testl.append(test_loss)\n",
    "        store_teste.append(test_err)\n",
    "        # Print results\n",
    "        print(f'Epoch: {epoch:03} | Train Loss: {train_loss:.04} | Test Loss: {test_loss:.04} | Test Error: {test_err:.04}')\n",
    "    return store_trainl, store_testl, store_teste\n",
    "\n",
    "\n",
    "# Run the main function\n",
    "\n",
    "main(batch_size=64, train_set=train_set_mnist, test_set=test_set_mnist, dim=28*28, nclass=10, width=100, depth=2, learning_rate=0.001, num_epochs=10)"
   ]
  },
  {
   "cell_type": "markdown",
   "metadata": {},
   "source": [
    "***\n",
    "\n",
    "# Part 3.2: Numerical exploration [2 points]"
   ]
  },
  {
   "cell_type": "markdown",
   "metadata": {},
   "source": [
    "Throughout this part we use MNIST dataset."
   ]
  },
  {
   "cell_type": "markdown",
   "metadata": {},
   "source": [
    "## Task 6: \n",
    "Analyse the performance for wide vs. deep neural networks"
   ]
  },
  {
   "cell_type": "code",
   "execution_count": 110,
   "metadata": {},
   "outputs": [
    {
     "name": "stdout",
     "output_type": "stream",
     "text": [
      "Depth: 1\n"
     ]
    },
    {
     "name": "stdout",
     "output_type": "stream",
     "text": [
      "Epoch: 000 | Train Loss: 0.3021 | Test Loss: 0.1543 | Test Error: 0.0463\n",
      "Epoch: 001 | Train Loss: 0.1287 | Test Loss: 0.1087 | Test Error: 0.0336\n",
      "Epoch: 002 | Train Loss: 0.08541 | Test Loss: 0.08572 | Test Error: 0.0253\n",
      "Epoch: 003 | Train Loss: 0.06284 | Test Loss: 0.07676 | Test Error: 0.0239\n",
      "Epoch: 004 | Train Loss: 0.04719 | Test Loss: 0.07927 | Test Error: 0.0252\n",
      "Epoch: 005 | Train Loss: 0.03682 | Test Loss: 0.07214 | Test Error: 0.0217\n",
      "Epoch: 006 | Train Loss: 0.02883 | Test Loss: 0.07534 | Test Error: 0.0226\n",
      "Epoch: 007 | Train Loss: 0.02125 | Test Loss: 0.06709 | Test Error: 0.021\n",
      "Epoch: 008 | Train Loss: 0.01705 | Test Loss: 0.07782 | Test Error: 0.0224\n",
      "Epoch: 009 | Train Loss: 0.01374 | Test Loss: 0.07174 | Test Error: 0.0205\n",
      "Depth: 5\n",
      "Epoch: 000 | Train Loss: 0.311 | Test Loss: 0.1463 | Test Error: 0.0419\n",
      "Epoch: 001 | Train Loss: 0.1164 | Test Loss: 0.1026 | Test Error: 0.0282\n",
      "Epoch: 002 | Train Loss: 0.0858 | Test Loss: 0.1176 | Test Error: 0.0327\n",
      "Epoch: 003 | Train Loss: 0.06578 | Test Loss: 0.1071 | Test Error: 0.0293\n",
      "Epoch: 004 | Train Loss: 0.05499 | Test Loss: 0.09804 | Test Error: 0.0266\n",
      "Epoch: 005 | Train Loss: 0.04634 | Test Loss: 0.1028 | Test Error: 0.0285\n",
      "Epoch: 006 | Train Loss: 0.03944 | Test Loss: 0.08697 | Test Error: 0.0194\n",
      "Epoch: 007 | Train Loss: 0.03563 | Test Loss: 0.08913 | Test Error: 0.0218\n",
      "Epoch: 008 | Train Loss: 0.03127 | Test Loss: 0.09219 | Test Error: 0.0226\n",
      "Epoch: 009 | Train Loss: 0.02738 | Test Loss: 0.08034 | Test Error: 0.0197\n",
      "Depth: 10\n",
      "Epoch: 000 | Train Loss: 0.5123 | Test Loss: 0.2086 | Test Error: 0.0532\n",
      "Epoch: 001 | Train Loss: 0.1999 | Test Loss: 0.1688 | Test Error: 0.0429\n",
      "Epoch: 002 | Train Loss: 0.1399 | Test Loss: 0.1374 | Test Error: 0.0343\n",
      "Epoch: 003 | Train Loss: 0.1131 | Test Loss: 0.1283 | Test Error: 0.0292\n",
      "Epoch: 004 | Train Loss: 0.1058 | Test Loss: 0.1142 | Test Error: 0.0289\n",
      "Epoch: 005 | Train Loss: 0.0917 | Test Loss: 0.1262 | Test Error: 0.0269\n",
      "Epoch: 006 | Train Loss: 0.08295 | Test Loss: 0.1349 | Test Error: 0.0296\n",
      "Epoch: 007 | Train Loss: 0.07705 | Test Loss: 0.125 | Test Error: 0.0264\n",
      "Epoch: 008 | Train Loss: 0.064 | Test Loss: 0.1214 | Test Error: 0.0239\n",
      "Epoch: 009 | Train Loss: 0.05766 | Test Loss: 0.0962 | Test Error: 0.0232\n"
     ]
    }
   ],
   "source": [
    "#hyperparameters\n",
    "depths=[1,5,10]\n",
    "width=256\n",
    "learning_rate=0.001\n",
    "batch_size=64\n",
    "dim=28*28\n",
    "nclass=10\n",
    "num_epochs=10\n",
    "\n",
    "#results\n",
    "train_loss={}\n",
    "test_loss={}\n",
    "test_error={}\n",
    "\n",
    "store_results={}\n",
    "for depth in depths:\n",
    "    print(f\"Depth: {depth}\")\n",
    "    train_loss,test_loss,test_error=main(batch_size=batch_size, train_set=train_set_mnist, test_set=test_set_mnist, dim=dim, nclass=nclass, width=width, depth=depth, learning_rate=learning_rate, num_epochs=num_epochs)\n",
    "    store_results[depth]={\"train_loss\":train_loss,\"test_loss\":test_loss,\"test_error\":test_error}"
   ]
  },
  {
   "cell_type": "code",
   "execution_count": 108,
   "metadata": {},
   "outputs": [
    {
     "name": "stdout",
     "output_type": "stream",
     "text": [
      "   Depth  Train Loss  Test Loss\n",
      "0      1    0.014338   0.075299\n",
      "1      5    0.027446   0.162746\n",
      "2     10    0.061735   0.109880\n"
     ]
    }
   ],
   "source": [
    "\n",
    "# Define the data\n",
    "data = {\n",
    "    'Depth': [1, 5, 10],\n",
    "    'Train Loss': [store_results[1]['train_loss'][-1], store_results[5]['train_loss'][-1], store_results[10]['train_loss'][-1]],\n",
    "    'Test Loss': [store_results[1]['test_loss'][-1], store_results[5]['test_loss'][-1], store_results[10]['test_loss'][-1]]\n",
    "}\n",
    "\n",
    "# Create the pandas DataFrame\n",
    "df = pd.DataFrame(data)\n",
    "\n",
    "# Display the DataFrame\n",
    "print(df)\n"
   ]
  },
  {
   "cell_type": "markdown",
   "metadata": {},
   "source": [
    "We notice that the test loss for higher depth numbers is worse, but the training loss is lower. This means that the network is indeed learning, altought not the most signifficant features."
   ]
  },
  {
   "cell_type": "code",
   "execution_count": 169,
   "metadata": {},
   "outputs": [
    {
     "data": {
      "image/png": "[encoded data removed]",
      "text/plain": [
       "<Figure size 640x480 with 1 Axes>"
      ]
     },
     "metadata": {},
     "output_type": "display_data"
    }
   ],
   "source": [
    "\n",
    "\n",
    "# Extract the train and test loss values for each depth level\n",
    "train_loss = [[store_results[depth]['train_loss'][epoch]for depth in depths] for epoch in range(num_epochs)]\n",
    "\n",
    "\n",
    "# Plot the train and test loss against depth levels\n",
    "plt.plot(range(num_epochs), train_loss, label='Train Loss')\n",
    "\n",
    "\n",
    "# Add labels and legend\n",
    "plt.xlabel('Depth')\n",
    "plt.ylabel('Loss')\n",
    "plt.legend()\n",
    "\n",
    "\n",
    "# Show the plot\n",
    "plt.show()"
   ]
  },
  {
   "cell_type": "markdown",
   "metadata": {},
   "source": [
    "From this plot we can see that the network is definitely learning as the number of layers increases. Now we can also check performance on the test data."
   ]
  },
  {
   "cell_type": "code",
   "execution_count": 111,
   "metadata": {},
   "outputs": [
    {
     "data": {
      "image/png": "[encoded data removed]",
      "text/plain": [
       "<Figure size 640x480 with 1 Axes>"
      ]
     },
     "metadata": {},
     "output_type": "display_data"
    }
   ],
   "source": [
    "\n",
    "\n",
    "# Extract the train and test loss values for each depth level\n",
    "train_loss = [store_results[depth]['train_loss'][-1] for depth in depths]\n",
    "test_loss = [store_results[depth]['test_loss'][-1] for depth in depths]\n",
    "\n",
    "# Plot the train and test loss against depth levels\n",
    "plt.plot(depths, train_loss, label='Train Loss')\n",
    "plt.plot(depths, test_loss, label='Test Loss')\n",
    "\n",
    "# Add labels and legend\n",
    "plt.xlabel('Depth')\n",
    "plt.ylabel('Loss')\n",
    "plt.legend()\n",
    "\n",
    "\n",
    "# Show the plot\n",
    "plt.show()\n",
    "\n",
    "\n",
    "\n"
   ]
  },
  {
   "cell_type": "markdown",
   "metadata": {},
   "source": [
    "## Discussion: \n",
    "We observe a decrease in performance as the numbers of layers increases. This is most likely due to overfitting. Adding more layers means adding more complexity to the model and it is very likely that the network is training itself from features that are no longer representative to the real distribution. Thus adding more layers in a uniform matter does not guarantee convergence to a representative model.\n",
    "\n",
    "If one does wish to keep an increased number of layers but avoid overfitting, one might possibly mitigate that by decreasing the width as the layer number increases. In this run we used __width__ $=256$. We know, however, that the MNIST data set contains $10$ classes. It would make sense to have an output layer of width $10$ and perhaps a penultimate layer with the order of around $50$ to assure that only the most relevant features are contributing to the decision."
   ]
  },
  {
   "cell_type": "markdown",
   "metadata": {},
   "source": [
    "## Task 7:\n",
    "Analyse the train and test errors as a function of width"
   ]
  },
  {
   "cell_type": "code",
   "execution_count": 175,
   "metadata": {},
   "outputs": [
    {
     "name": "stdout",
     "output_type": "stream",
     "text": [
      "Width: 4\n"
     ]
    },
    {
     "name": "stdout",
     "output_type": "stream",
     "text": [
      "Epoch: 000 | Train Loss: 1.114 | Test Loss: 0.6704 | Test Error: 0.2206\n",
      "Epoch: 001 | Train Loss: 0.5851 | Test Loss: 0.5114 | Test Error: 0.1536\n",
      "Epoch: 002 | Train Loss: 0.5106 | Test Loss: 0.4831 | Test Error: 0.1444\n",
      "Epoch: 003 | Train Loss: 0.4879 | Test Loss: 0.4713 | Test Error: 0.1383\n",
      "Epoch: 004 | Train Loss: 0.474 | Test Loss: 0.4657 | Test Error: 0.1349\n",
      "Epoch: 005 | Train Loss: 0.4647 | Test Loss: 0.4557 | Test Error: 0.1324\n",
      "Epoch: 006 | Train Loss: 0.4575 | Test Loss: 0.4496 | Test Error: 0.1305\n",
      "Epoch: 007 | Train Loss: 0.4508 | Test Loss: 0.4485 | Test Error: 0.1305\n",
      "Epoch: 008 | Train Loss: 0.446 | Test Loss: 0.4413 | Test Error: 0.1278\n",
      "Epoch: 009 | Train Loss: 0.4425 | Test Loss: 0.4412 | Test Error: 0.1296\n",
      "Width: 8\n",
      "Epoch: 000 | Train Loss: 0.7232 | Test Loss: 0.3683 | Test Error: 0.1039\n",
      "Epoch: 001 | Train Loss: 0.3474 | Test Loss: 0.3163 | Test Error: 0.0873\n",
      "Epoch: 002 | Train Loss: 0.3121 | Test Loss: 0.3005 | Test Error: 0.0847\n",
      "Epoch: 003 | Train Loss: 0.2972 | Test Loss: 0.295 | Test Error: 0.0822\n",
      "Epoch: 004 | Train Loss: 0.2876 | Test Loss: 0.2939 | Test Error: 0.0816\n",
      "Epoch: 005 | Train Loss: 0.2801 | Test Loss: 0.2859 | Test Error: 0.0792\n",
      "Epoch: 006 | Train Loss: 0.2742 | Test Loss: 0.2801 | Test Error: 0.0769\n",
      "Epoch: 007 | Train Loss: 0.2681 | Test Loss: 0.2801 | Test Error: 0.0767\n",
      "Epoch: 008 | Train Loss: 0.264 | Test Loss: 0.2743 | Test Error: 0.0754\n",
      "Epoch: 009 | Train Loss: 0.2597 | Test Loss: 0.2746 | Test Error: 0.0746\n",
      "Width: 16\n",
      "Epoch: 000 | Train Loss: 0.5767 | Test Loss: 0.2956 | Test Error: 0.0818\n",
      "Epoch: 001 | Train Loss: 0.2817 | Test Loss: 0.2559 | Test Error: 0.0724\n",
      "Epoch: 002 | Train Loss: 0.2467 | Test Loss: 0.2318 | Test Error: 0.0683\n",
      "Epoch: 003 | Train Loss: 0.2252 | Test Loss: 0.2207 | Test Error: 0.0649\n",
      "Epoch: 004 | Train Loss: 0.2117 | Test Loss: 0.2135 | Test Error: 0.0621\n",
      "Epoch: 005 | Train Loss: 0.2003 | Test Loss: 0.2047 | Test Error: 0.0605\n",
      "Epoch: 006 | Train Loss: 0.1927 | Test Loss: 0.1978 | Test Error: 0.0573\n",
      "Epoch: 007 | Train Loss: 0.1853 | Test Loss: 0.1935 | Test Error: 0.0576\n",
      "Epoch: 008 | Train Loss: 0.1788 | Test Loss: 0.1985 | Test Error: 0.0566\n",
      "Epoch: 009 | Train Loss: 0.1744 | Test Loss: 0.1933 | Test Error: 0.0555\n",
      "Width: 32\n",
      "Epoch: 000 | Train Loss: 0.458 | Test Loss: 0.263 | Test Error: 0.076\n",
      "Epoch: 001 | Train Loss: 0.2446 | Test Loss: 0.212 | Test Error: 0.0637\n",
      "Epoch: 002 | Train Loss: 0.1972 | Test Loss: 0.1723 | Test Error: 0.0514\n",
      "Epoch: 003 | Train Loss: 0.1678 | Test Loss: 0.1575 | Test Error: 0.0468\n",
      "Epoch: 004 | Train Loss: 0.1461 | Test Loss: 0.143 | Test Error: 0.0416\n",
      "Epoch: 005 | Train Loss: 0.1309 | Test Loss: 0.1364 | Test Error: 0.0402\n",
      "Epoch: 006 | Train Loss: 0.1183 | Test Loss: 0.1294 | Test Error: 0.0393\n",
      "Epoch: 007 | Train Loss: 0.1082 | Test Loss: 0.1256 | Test Error: 0.0364\n",
      "Epoch: 008 | Train Loss: 0.1002 | Test Loss: 0.1299 | Test Error: 0.0384\n",
      "Epoch: 009 | Train Loss: 0.09362 | Test Loss: 0.1213 | Test Error: 0.0352\n",
      "Width: 64\n",
      "Epoch: 000 | Train Loss: 0.398 | Test Loss: 0.2305 | Test Error: 0.0675\n",
      "Epoch: 001 | Train Loss: 0.1996 | Test Loss: 0.1624 | Test Error: 0.0469\n",
      "Epoch: 002 | Train Loss: 0.1492 | Test Loss: 0.1376 | Test Error: 0.0407\n",
      "Epoch: 003 | Train Loss: 0.1186 | Test Loss: 0.1139 | Test Error: 0.0337\n",
      "Epoch: 004 | Train Loss: 0.09788 | Test Loss: 0.1034 | Test Error: 0.0305\n",
      "Epoch: 005 | Train Loss: 0.0831 | Test Loss: 0.1003 | Test Error: 0.028\n",
      "Epoch: 006 | Train Loss: 0.07256 | Test Loss: 0.0939 | Test Error: 0.0282\n",
      "Epoch: 007 | Train Loss: 0.06393 | Test Loss: 0.09422 | Test Error: 0.028\n",
      "Epoch: 008 | Train Loss: 0.05601 | Test Loss: 0.09077 | Test Error: 0.0263\n",
      "Epoch: 009 | Train Loss: 0.05024 | Test Loss: 0.09114 | Test Error: 0.0271\n",
      "Width: 128\n",
      "Epoch: 000 | Train Loss: 0.3403 | Test Loss: 0.1875 | Test Error: 0.0545\n",
      "Epoch: 001 | Train Loss: 0.1583 | Test Loss: 0.1279 | Test Error: 0.0389\n",
      "Epoch: 002 | Train Loss: 0.1116 | Test Loss: 0.1162 | Test Error: 0.0365\n",
      "Epoch: 003 | Train Loss: 0.08471 | Test Loss: 0.09223 | Test Error: 0.0279\n",
      "Epoch: 004 | Train Loss: 0.0674 | Test Loss: 0.08953 | Test Error: 0.029\n",
      "Epoch: 005 | Train Loss: 0.05464 | Test Loss: 0.08139 | Test Error: 0.0245\n",
      "Epoch: 006 | Train Loss: 0.04533 | Test Loss: 0.08024 | Test Error: 0.023\n",
      "Epoch: 007 | Train Loss: 0.03614 | Test Loss: 0.07465 | Test Error: 0.0232\n",
      "Epoch: 008 | Train Loss: 0.02997 | Test Loss: 0.06944 | Test Error: 0.0212\n",
      "Epoch: 009 | Train Loss: 0.02484 | Test Loss: 0.0789 | Test Error: 0.0221\n",
      "Width: 256\n",
      "Epoch: 000 | Train Loss: 0.2985 | Test Loss: 0.1499 | Test Error: 0.0444\n",
      "Epoch: 001 | Train Loss: 0.1245 | Test Loss: 0.1008 | Test Error: 0.0288\n",
      "Epoch: 002 | Train Loss: 0.08129 | Test Loss: 0.09082 | Test Error: 0.0284\n",
      "Epoch: 003 | Train Loss: 0.06024 | Test Loss: 0.07476 | Test Error: 0.0238\n",
      "Epoch: 004 | Train Loss: 0.04494 | Test Loss: 0.07333 | Test Error: 0.0232\n",
      "Epoch: 005 | Train Loss: 0.03552 | Test Loss: 0.06764 | Test Error: 0.0216\n",
      "Epoch: 006 | Train Loss: 0.02635 | Test Loss: 0.07336 | Test Error: 0.0236\n",
      "Epoch: 007 | Train Loss: 0.02039 | Test Loss: 0.06831 | Test Error: 0.0213\n",
      "Epoch: 008 | Train Loss: 0.01696 | Test Loss: 0.06976 | Test Error: 0.0206\n",
      "Epoch: 009 | Train Loss: 0.01224 | Test Loss: 0.07555 | Test Error: 0.0222\n",
      "Width: 128\n",
      "Epoch: 000 | Train Loss: 0.3497 | Test Loss: 0.1935 | Test Error: 0.0564\n",
      "Epoch: 001 | Train Loss: 0.162 | Test Loss: 0.1307 | Test Error: 0.0395\n",
      "Epoch: 002 | Train Loss: 0.114 | Test Loss: 0.1047 | Test Error: 0.0323\n",
      "Epoch: 003 | Train Loss: 0.0866 | Test Loss: 0.09179 | Test Error: 0.028\n",
      "Epoch: 004 | Train Loss: 0.06769 | Test Loss: 0.08647 | Test Error: 0.0276\n",
      "Epoch: 005 | Train Loss: 0.05525 | Test Loss: 0.08244 | Test Error: 0.0254\n",
      "Epoch: 006 | Train Loss: 0.04523 | Test Loss: 0.07528 | Test Error: 0.023\n",
      "Epoch: 007 | Train Loss: 0.03704 | Test Loss: 0.0812 | Test Error: 0.0242\n",
      "Epoch: 008 | Train Loss: 0.03131 | Test Loss: 0.07619 | Test Error: 0.0232\n",
      "Epoch: 009 | Train Loss: 0.02587 | Test Loss: 0.07784 | Test Error: 0.0231\n",
      "Width: 512\n",
      "Epoch: 000 | Train Loss: 0.2575 | Test Loss: 0.1194 | Test Error: 0.0363\n",
      "Epoch: 001 | Train Loss: 0.09977 | Test Loss: 0.08246 | Test Error: 0.0251\n",
      "Epoch: 002 | Train Loss: 0.06564 | Test Loss: 0.06873 | Test Error: 0.0215\n",
      "Epoch: 003 | Train Loss: 0.04643 | Test Loss: 0.06958 | Test Error: 0.0211\n",
      "Epoch: 004 | Train Loss: 0.03436 | Test Loss: 0.06065 | Test Error: 0.0194\n",
      "Epoch: 005 | Train Loss: 0.02425 | Test Loss: 0.06577 | Test Error: 0.0198\n",
      "Epoch: 006 | Train Loss: 0.0178 | Test Loss: 0.0697 | Test Error: 0.0204\n",
      "Epoch: 007 | Train Loss: 0.01458 | Test Loss: 0.0648 | Test Error: 0.0186\n",
      "Epoch: 008 | Train Loss: 0.0122 | Test Loss: 0.07544 | Test Error: 0.0205\n",
      "Epoch: 009 | Train Loss: 0.009819 | Test Loss: 0.07768 | Test Error: 0.0198\n",
      "Width: 1024\n",
      "Epoch: 000 | Train Loss: 0.2275 | Test Loss: 0.1084 | Test Error: 0.0335\n",
      "Epoch: 001 | Train Loss: 0.08412 | Test Loss: 0.09761 | Test Error: 0.0307\n",
      "Epoch: 002 | Train Loss: 0.05258 | Test Loss: 0.0697 | Test Error: 0.0217\n",
      "Epoch: 003 | Train Loss: 0.03779 | Test Loss: 0.06211 | Test Error: 0.021\n",
      "Epoch: 004 | Train Loss: 0.02665 | Test Loss: 0.07216 | Test Error: 0.0207\n",
      "Epoch: 005 | Train Loss: 0.02003 | Test Loss: 0.07043 | Test Error: 0.0206\n",
      "Epoch: 006 | Train Loss: 0.0161 | Test Loss: 0.07257 | Test Error: 0.0192\n",
      "Epoch: 007 | Train Loss: 0.01346 | Test Loss: 0.07121 | Test Error: 0.0185\n",
      "Epoch: 008 | Train Loss: 0.01057 | Test Loss: 0.07173 | Test Error: 0.0187\n",
      "Epoch: 009 | Train Loss: 0.009535 | Test Loss: 0.07848 | Test Error: 0.0198\n"
     ]
    }
   ],
   "source": [
    "depth=1\n",
    "widths=[4,8,16,32,64,128,256,128,512,1024]\n",
    "learning_rate=0.001\n",
    "batch_size=64\n",
    "dim=28*28\n",
    "nclass=10\n",
    "num_epochs=10\n",
    "\n",
    "#results\n",
    "store_results={}\n",
    "train_loss=[]\n",
    "test_loss=[]\n",
    "test_error=[]\n",
    "for width in widths:\n",
    "    print(f\"Width: {\")width}\n",
    "    train_loss,test_loss,test_error=main(batch_size=batch_size, train_set=train_set_mnist, test_set=test_set_mnist, dim=dim, nclass=nclass, width=width, depth=depth, learning_rate=learning_rate, num_epochs=num_epochs)\n",
    "    store_results[width]={\"train_loss\":train_loss,\"test_loss\":test_loss,\"test_error\":test_error}"
   ]
  },
  {
   "cell_type": "code",
   "execution_count": 28,
   "metadata": {},
   "outputs": [
    {
     "name": "stdout",
     "output_type": "stream",
     "text": [
      "   Width  Train Loss  Test Loss\n",
      "0      4    1.084967   1.076516\n",
      "1      8    0.381011   0.376134\n",
      "2     16    0.287506   0.289064\n",
      "3     32    0.141800   0.160648\n",
      "4     64    0.102708   0.113400\n",
      "5    128    0.055171   0.102568\n",
      "6    256    0.045430   0.106887\n",
      "7    512    0.038511   0.089831\n",
      "8   1024    0.039660   0.102426\n"
     ]
    }
   ],
   "source": [
    "\n",
    "# Define the data\n",
    "data = {\n",
    "    'Width': [4, 8, 16, 32, 64, 128, 256, 512, 1024],\n",
    "    'Train Loss': [store_results[4]['train_loss'][-1], store_results[8]['train_loss'][-1], store_results[16]['train_loss'][-1], store_results[32]['train_loss'][-1], store_results[64]['train_loss'][-1], store_results[128]['train_loss'][-1], store_results[256]['train_loss'][-1], store_results[512]['train_loss'][-1], store_results[1024]['train_loss'][-1]],\n",
    "    'Test Loss': [store_results[4]['test_loss'][-1], store_results[8]['test_loss'][-1], store_results[16]['test_loss'][-1], store_results[32]['test_loss'][-1], store_results[64]['test_loss'][-1], store_results[128]['test_loss'][-1], store_results[256]['test_loss'][-1], store_results[512]['test_loss'][-1], store_results[1024]['test_loss'][-1]]\n",
    "}\n",
    "\n",
    "# Create the pandas DataFrame\n",
    "df = pd.DataFrame(data)\n",
    "\n",
    "# Display the DataFrame\n",
    "print(df)\n"
   ]
  },
  {
   "cell_type": "markdown",
   "metadata": {},
   "source": [
    "Again we notice that the  network is indeed learning on the training data and we see a promising improvement in the first $5$ iterations as well. The loss stagnates after that. This means that the error will likely be lower, but the 'quantity' of 'wrongness' stays the same."
   ]
  },
  {
   "cell_type": "code",
   "execution_count": 176,
   "metadata": {},
   "outputs": [
    {
     "data": {
      "image/png": "[encoded data removed]",
      "text/plain": [
       "<Figure size 640x480 with 1 Axes>"
      ]
     },
     "metadata": {},
     "output_type": "display_data"
    }
   ],
   "source": [
    "\n",
    "# Extract the train and test loss values for each width level\n",
    "train_loss = [store_results[width]['train_loss'][-1] for width in widths]\n",
    "test_loss = [store_results[width]['test_loss'][-1] for width in widths]\n",
    "\n",
    "# Plot the train and test loss against width levels\n",
    "plt.plot(widths, train_loss, label='Train Loss')\n",
    "plt.plot(widths, test_loss, label='Test Loss')\n",
    "\n",
    "# Add labels and legend\n",
    "plt.xlabel('Width')\n",
    "plt.ylabel('Loss')\n",
    "plt.legend()\n",
    "\n",
    "# Set the desired range for the x-axis and y-axis\n",
    "plt.xlim(4, 1024)\n",
    "plt.ylim(0, 0.5)\n",
    "\n",
    "# Show the plot\n",
    "plt.show()\n",
    "\n",
    "\n",
    "\n"
   ]
  },
  {
   "cell_type": "markdown",
   "metadata": {},
   "source": [
    "Plot consistent with what we described from the table, however we see a steep decrease at the begining which makes us consider possible convergence behaviour."
   ]
  },
  {
   "cell_type": "code",
   "execution_count": 192,
   "metadata": {},
   "outputs": [
    {
     "data": {
      "image/png": "[encoded data removed]",
      "text/plain": [
       "<Figure size 640x480 with 1 Axes>"
      ]
     },
     "metadata": {},
     "output_type": "display_data"
    },
    {
     "data": {
      "image/png": "[encoded data removed]",
      "text/plain": [
       "<Figure size 640x480 with 1 Axes>"
      ]
     },
     "metadata": {},
     "output_type": "display_data"
    },
    {
     "name": "stdout",
     "output_type": "stream",
     "text": [
      "convergence rate: -0.33518115304922574\n"
     ]
    }
   ],
   "source": [
    "import numpy as np\n",
    "import matplotlib.pyplot as plt\n",
    "\n",
    "# Extract the test error values for each width level\n",
    "test_error = [store_results[width]['test_error'][-1] for width in widths]\n",
    "\n",
    "# Plot the test error against widths in normal scale\n",
    "plt.plot(widths, test_error, label='Test Error (Normal Scale)')\n",
    "\n",
    "# Add labels and legend\n",
    "plt.xlabel('Width')\n",
    "plt.ylabel('Test Error')\n",
    "plt.legend()\n",
    "# Set the desired range for the x-axis and y-axis in normal scale\n",
    "plt.xlim(4, 1024)\n",
    "plt.ylim(0, 0.5)\n",
    "plt.show()\n",
    "\n",
    "# Plot the test error against widths in log-log scale\n",
    "\n",
    "# Fit a line to the data\n",
    "coefficients = np.polyfit(np.log(widths), np.log(test_error), 1)\n",
    "\n",
    "# Show the coefficient\n",
    "coefficient = coefficients[0]\n",
    "plt.loglog(widths, test_error, label='Test Error (Log-Log Scale)')\n",
    "\n",
    "# Add labels and legend\n",
    "plt.xlabel('Width')\n",
    "plt.ylabel('Test Error')\n",
    "\n",
    "\n",
    "\n",
    "\n",
    "# Show the plot\n",
    "plt.show()\n",
    "print(f\"convergence rate: {coefficient}\")\n",
    "\n"
   ]
  },
  {
   "cell_type": "markdown",
   "metadata": {},
   "source": [
    "Fortunately, this is the case. The loss function stays the same and the test error decreases dramatically as the number of layers increases. We check the rate of convergence and obtain $-0.35$.\n",
    "\n",
    "## Discussion:\n",
    "\n",
    "In this part of the exercise we analysed the dependence of training on width parameter. We expected imporvement in accordance with [Neyshabur et al., 2018] experiments part, but we used AdamGrad instead of SGD.\n",
    "\n",
    "\n",
    "This could potentially explain the discrepancy in convergence rate. The paper prooves a rate of $\\mathcal{O}(\\sqrt{w})$, so $-0.5$. We got $-0.35$.\n"
   ]
  },
  {
   "cell_type": "markdown",
   "metadata": {},
   "source": [
    "***\n",
    "***\n",
    "\n",
    "## Part 4: The link between Neural Networks and Gaussian Processes [8 points]"
   ]
  },
  {
   "cell_type": "markdown",
   "metadata": {},
   "source": [
    "### Part 4.1: Proving the relationship between a Gaussian process and a neural network [4 points]"
   ]
  },
  {
   "cell_type": "markdown",
   "metadata": {},
   "source": [
    "Consider a fully connected neural network. \n",
    "\n",
    "Suppose the input $x$ is of dimensionality $N_0$. \n",
    "$N_1$ hidden nodes in layer $1$ and $N_2$ output nodes. \n",
    "\n",
    "The activation function is given by $$f_i^{(1)}(x)=\\sum_{j=1}^{N_0}w_{ij}^{(1)}x_j+b_i^{(1)}.$$ \n",
    "\n",
    "$w_{ij}^{(1)}$ is the weight of the first layer connecting node $i$ in layer $1$ with input $j$ \n",
    "\n",
    "$b_i^{(1)}$ is the bias we add in layer $1$ to output node $i$.\n",
    "\n",
    "The non-linear function $$g_i^{(1)}(x)=\\phi(f_i^{(1)}(x))$$\n",
    "\n",
    "The output layer is given by $$f_i^{(2)}=\\sum_{j=1}^{N_1}w_{ij}^{(2)}g_j^{(1)}(x)+b_i^{(2)}$$\n",
    "\n",
    "Distribution on the parameters of the network.\n",
    "Distribution on the other nodes conditional on the inputs.\n",
    "\n",
    "$w_{ij}^{(l)} ∼ \\mathcal{N}(0,C_w^{(l)})$ i.i.d.\n",
    "\n",
    "$b_i^{(l)}∼\\mathcal{N}(0,\\sigma_b^{(l)})$ i.i.d.\n",
    "\n",
    "Where $l\\in\\{0,1\\}$ is the number of layer, $C_w^{(l)}$ weight variance and $\\sigma_b^{(l)}$ variance for biases. We know that for $j\\neq j'$ we have that $f_j^{(1)}$ and $f_{j'}^{(1)}$ are independent.\n",
    "\n",
    "We use the results from the paper [Neal,1996]"
   ]
  },
  {
   "cell_type": "markdown",
   "metadata": {},
   "source": [
    "## Task 1: Proper weight scaling"
   ]
  },
  {
   "cell_type": "markdown",
   "metadata": {},
   "source": [
    "We are interested in the behaviour of the network as the width $N_1$ goes to infinity.\n",
    "\n",
    "We look at the initial relation $f_i^{(2)}(x)=\\sum_{j=1}^{N_1}w_{ij}^{(2)}g_j^{(1)}(x)+b_j^{(2)}$.\n",
    "\n",
    "For $f_i^{(2)}(x)$ the variance is $=\\sigma_b^{(2)}+N_1C_w^{(2)} E[g_j(x^{(1)})^2]$ (by using independence). Where $E[g_j(x^{(1)})^2]$ is the same for all $j$.\n",
    "\n",
    "To obtain a well defined (finite) limit for the prior distribution of the value of the function at any point, we scale the prior variance according to the number of hidden units: $C_w^{(2)}=\\frac{\\sigma_w^{(2)}}{N_{1}}$. Otherwise, the value would blow up to infinity.\n",
    "\n",
    "This makes sense for $l>2$ as well. The scaling is a necessary condition for convergence.\n",
    "\n",
    "\n"
   ]
  },
  {
   "cell_type": "markdown",
   "metadata": {},
   "source": [
    "## Task 2: Derive the GP relation for a single hidden layer"
   ]
  },
  {
   "cell_type": "markdown",
   "metadata": {},
   "source": [
    "We want to show that $f_i^{(2)}(x)=\\sum_{j=1}^{N_1}w_{ij}^{(2)}g_j^{(1)}(x)+b_j^{(2)}$ converges to a Gaussian process. \n",
    "\n",
    "We already know that $w_{ij}^{(l)}$ and $b_{i}^{(l)}$ are i.i.d. and for $i\\neq j$ then $g_i^{(l)}$ and $g_j^{(l)}$ are i.i.d.\n",
    "\n",
    "Under the prior, each term of the sum is independednt and Gaussian.   Because of independence, we are able to apply CLT to obtain a multivariate Gaussian. The posterior of a Gaussian is also a Gaussian, so we get the from that we wanted for $f_i^{(2)}∼GP(\\mu_1,K^1)$. To obtain the variance of $f_i^{(2)}$ we have to integrate over the prior, so over $w_{ij}^{(1)}$ and $b_{i}^{(1)}$.\n",
    "\n",
    "Because the parameters have mean equal to $0$, then $$\\mathbb{E}\\left[f_i^{(2)}(x)\\right]=\\sum_{j=1}^{N_1}\\mathbb{E}\\left[w_{ij}^{(2)}g_j^{(1)}(x)+b_j^{(2)}\\right]=\\sum_{j=1}^{N_1}\\mathbb{E}\\left[w_{ij}^{(2)}\\right]\\mathbb{E}\\left[g_j^{(1)}(x)\\right]+\\mathbb{E}\\left[b_j^{(2)}\\right]=0.$$  (Since $\\mathbb{E}\\left[w_{ij}^{(2)}\\right]$ and $\\mathbb{E}\\left[b_j^{(2)}\\right]=0$).\n",
    "\n",
    "So $f_i^{(2)}$ has the variance $$\\mathbb{E}\\left[f_i(x^{(2)})f_i(x^{(2)})\\right]=\\sigma_b^{(2)}+\\sum_{j}C_w^{(2)}\\mathbb{E}\\left[g_j(x^{(1)}),g_j(x^{(1)})\\right]=\\sigma_b^{(2)}+\\sigma_w^{(2)}\\mathbb{E}\\left[g_j^{(1)}(x^{(1)}),g_j^{(1)}(x^{(1)})\\right]$$ because $\\mathbb{E}\\left[g_j(x^{(1)}), g_j(x^{(1)})\\right]$ has the same value for all $j$.\n",
    "\n",
    "And the covariance function $$K^2(x,x')=\\mathbb{E}\\left[f_i(x^{(2)})f_i(x'^{(2)})\\right]=\\sigma^{(2)}_b+\\sigma_w^{(2)} F_{\\phi}\\left(K^1(x,x'),K^1(x,x),K^1(x',x')\\right)$$\n",
    "\n",
    "and $$K^1(x,x')=\\sigma_b^{(1)}+\\sigma_w^{(1)}\\left(\\frac{x\\cdot x'}{N_0}\\right)$$\n"
   ]
  },
  {
   "cell_type": "markdown",
   "metadata": {},
   "source": [
    "## Task 3: Why in succession"
   ]
  },
  {
   "cell_type": "markdown",
   "metadata": {},
   "source": [
    "We answer this question using [Lee et al.,2017].\n",
    "We take the limits in succession to guarantee that the input to the layer under consideration is already governed by a GP."
   ]
  },
  {
   "cell_type": "markdown",
   "metadata": {},
   "source": [
    "## Task 4: Derive the GP relation for multiple hidden layers"
   ]
  },
  {
   "cell_type": "markdown",
   "metadata": {},
   "source": [
    "We do this inductively. Suppose that $f_i^{(l)}(x)=\\sum_{j=1}^{N_l}w_{ij}^{(l)}g_j^{(l-1)}(x)+b_j^{(l)}$ is a Gaussian Process identical nd independent for every $i$, with mean zero and variance $K^{l-1}$.\n",
    "\n",
    "Just like before, $f_i^{(l)}(x)$ is a sum of i.i.d. random terms. $\\{f_i^{(l)}(x^{\\alpha=1}),f_i^{(l)}(x^{\\alpha=2}),...,f_i^{(l)}(x^{\\alpha=k})\\}$ has a joint multivariate Gaussian distribution with $f_i^l∼GP(0,K^l)$ as $N_l$ goes to infinity.\n",
    "\n",
    "The covariance matrix is just like before $$K^l(x,x')=\\sigma_b^{(l)}+\\sigma_w^{(l)}\\mathbb{E}\\left[g_j^{(l-1)}(x),g_j^{(l-1)}(x')\\right]=\\sigma_b^{(l)}+\\sigma_w^{(l)}\\mathbb{E}\\left[\\phi(f_j^{(l-1)}(x)),\\phi(f_j^{(l-1)}(x'))\\right]$$\n",
    "\n",
    "Finally, to highlight the relation between $K^l$ and $K^{l-1}$:\n",
    "\n",
    "$$K^l(x,x')=\\sigma_b^{(l)}+\\sigma_w^{(l)}F_{\\phi}\\left(K^{l-1}(x,x'),K^{l-1}(x,x),K^{l-1}(x',x')\\right)$$ \n",
    "where $F$ depends on $\\phi$."
   ]
  },
  {
   "cell_type": "markdown",
   "metadata": {},
   "source": [
    "***\n",
    "\n",
    "## Part 4.2: Analysing the performance of the Gaussian process and a neural network [4 points]"
   ]
  },
  {
   "cell_type": "markdown",
   "metadata": {},
   "source": [
    "## Task 0:"
   ]
  },
  {
   "cell_type": "markdown",
   "metadata": {},
   "source": [
    "To perform classification using the Gaussian process, we can use the decision rule based on the predicted mean and variance of the Gaussian process. The decision rule can be formulated as follows:\n",
    "\n",
    "For a given test input, compute the predicted mean and variance of the Gaussian process after pre processing through the neural network.\n",
    "If the predicted mean is greater than a threshold, classify the input as the positive class.\n",
    "If the predicted mean is less than the negative of the threshold, classify the input as the negative class.\n",
    "If the predicted mean is within the range of -threshold to threshold, the classification can be considered uncertain or ambiguous.\n",
    "\n",
    "Below we initialise the data. We selected only $500$ samples from each class, labeled them with either $-0.5$ or $0.5$. This is called one-hot encoding, and it is mainly used when dealing with categorical data.\n",
    "\n"
   ]
  },
  {
   "cell_type": "code",
   "execution_count": 4,
   "metadata": {},
   "outputs": [
    {
     "name": "stdout",
     "output_type": "stream",
     "text": [
      "Files already downloaded and verified\n"
     ]
    }
   ],
   "source": [
    "# Load CIFAR-10 dataset\n",
    "transform = torchvision.transforms.ToTensor()\n",
    "train_dataset = torchvision.datasets.CIFAR10(root='./data', train=True, download=True, transform=transform)\n",
    "\n",
    "# Define the class indices for cat and truck\n",
    "cat_index = 3\n",
    "truck_index = 9\n",
    "\n",
    "# Select only the samples corresponding to cat and truck classes\n",
    "cat_indices = np.where(np.array(train_dataset.targets) == cat_index)[0]\n",
    "truck_indices = np.where(np.array(train_dataset.targets) == truck_index)[0]\n",
    "\n",
    "# Subsample 1000 training samples from each class   \n",
    "selected_cat_indices = np.random.choice(cat_indices, size=500, replace=False)\n",
    "selected_truck_indices = np.random.choice(truck_indices, size=500, replace=False)\n",
    "\n",
    "# Combine the selected indices\n",
    "selected_indices = np.concatenate([selected_cat_indices, selected_truck_indices])\n",
    "\n",
    "# Store the selected samples and targets\n",
    "trainset_data = train_dataset.data[selected_indices]\n",
    "trainset_targets = np.array(train_dataset.targets, dtype=\"float64\")[selected_indices]\n",
    "\n",
    "\n",
    "trainset_targets[trainset_targets == cat_index] = -0.5\n",
    "trainset_targets[trainset_targets == truck_index] = 0.5\n",
    "\n",
    "\n",
    "#print (train_dataset.shape)\n",
    "\n",
    "stored=trainset_data\n",
    "# Flatten trainset.data\n",
    "trainset_data = np.reshape(trainset_data, (trainset_data.shape[0], -1))/255\n",
    "\n"
   ]
  },
  {
   "cell_type": "markdown",
   "metadata": {},
   "source": [
    "## Task 1:\n",
    "\n",
    "Below we defined the kernel function in vectorised form. Using vectorised form is extremely beneficial in terms of computation time. This is because vector multiplications are done in C (which is as a rule of thumb $100$ times faster than python). However, sometimes it is difficult to see the vectorisation formulas as easily."
   ]
  },
  {
   "cell_type": "code",
   "execution_count": 5,
   "metadata": {},
   "outputs": [],
   "source": [
    "def kernel_NONVECT( L, sigma_w, sigma_b, X1, X2):\n",
    "    \"\"\" THIS IS THE OLD VERSION OF KERNEL FUNCTION, NOT VECTORIZED. SEE THE NEXT CELL FOR THE VECTORIZED VERSION\n",
    "    \"\"\"\n",
    "   #get the dimensions of the data as described in the notes\n",
    "    M1, N0 = X1.shape\n",
    "    M2, N0 = X2.shape\n",
    "\n",
    "    #initialize K\n",
    "    K = torch.zeros(M1+M2, M2+M1)\n",
    "    #concatenate the data\n",
    "    X=torch.cat((torch.from_numpy(X1),torch.from_numpy(X2)))\n",
    "    \n",
    "\n",
    "\n",
    "    #initialize K for the first layer\n",
    "    K = sigma_b[0] + sigma_w[0]  * (X @ X.T) / N0\n",
    "\n",
    "    for layer in range(1, L):\n",
    "        \n",
    "        #use the previous version of K\n",
    "        K_old =K.clone().detach()\n",
    "        for i in range(M1+M2):\n",
    "            for j in range(i+1):\n",
    "                #calculate common term\n",
    "                common_term = K_old[i, j] / (torch.sqrt(K_old[i,i] * K_old[j,j]))\n",
    "                theta = torch.acos(torch.clamp(common_term, -1, 1))\n",
    "                #calculate sin and cos terms\n",
    "                sin_term = torch.sin(theta)\n",
    "                cos_term = (torch.pi - theta) * common_term\n",
    "                #print('common_term',common_term,'sin_term',sin_term,'cos_term',cos_term)\n",
    "\n",
    "                #calculate K[i,j]\n",
    "                K[i, j] = sigma_b[layer] + (sigma_w[layer] / (2*torch.pi)) * torch.sqrt(K_old[i,i] * K_old[j,j]) * (sin_term + cos_term)\n",
    "                K[j,i]=K[i,j]\n",
    "    return K[0:M1, 0:M1],K[M1:M1+M2, M1:M1+M2], K[M1:M1+M2, 0:M1]\n",
    "\n",
    "                \n",
    "\n",
    "    "
   ]
  },
  {
   "cell_type": "code",
   "execution_count": 6,
   "metadata": {},
   "outputs": [],
   "source": [
    "def kernel( L, sigma_w, sigma_b, X1, X2):\n",
    "    \"\"\" kernel function \n",
    "            \n",
    "        input: L, sigma_w, sigma_b, X1, X2\n",
    "        output: K[0:M1, 0:M1], K[M1:M1+M2, M1:M1+M2], K[M1:M1+M2, 0:M1]\n",
    "        \n",
    "        The output is a tuple of three matrices: K_star_star, K, K_star or as described in the notes K^l(X^*,X^*), K^l(X,X), K^l(X^*,X)\n",
    "\n",
    "        We chose to do compute a bigger matrix that has K and K_star_star on the block diagonals and K_star on the off-diagonal blocks\n",
    "        rather than computing them using 3 different loops.\n",
    "        \"\"\"\n",
    "    \n",
    "    #get the dimensions of the data as described in the notes\n",
    "    M1, N0 = X1.shape\n",
    "    M2, N0 = X2.shape\n",
    "\n",
    "    #initialize K\n",
    "    K = torch.zeros(M1+M2, M2+M1)\n",
    "    #concatenate the data\n",
    "    X=torch.cat((torch.from_numpy(X1),torch.from_numpy(X2)))\n",
    "\n",
    "    #compute K for layer 1\n",
    "    K = sigma_b[0] + sigma_w[0]  * (X @ X.T) / N0\n",
    "\n",
    "    for layer in range(1, L):\n",
    "        #make a matrix with the diagonal elements of K\n",
    "        broad = K.diag().unsqueeze(1).expand(M1+M2, M1+M2)\n",
    "\n",
    "        #normalizing term\n",
    "        ctb = torch.sqrt(broad * broad.T)\n",
    "\n",
    "        #common term\n",
    "        ct = K / ctb\n",
    "\n",
    "        #angle term\n",
    "        theta = torch.acos(torch.clamp(ct, -1, 1))\n",
    "\n",
    "        #sine term\n",
    "        sin_term = torch.sin(theta)\n",
    "\n",
    "        #cosine term\n",
    "        cos_term = (torch.pi - theta) * ct\n",
    "        \n",
    "        #recurrence relation\n",
    "        K = sigma_b[layer] + (sigma_w[layer] / (2*torch.pi)) * ctb * (sin_term + cos_term)\n",
    "\n",
    "    return K[0:M1, 0:M1],K[M1:M1+M2, M1:M1+M2], K[M1:M1+M2, 0:M1]"
   ]
  },
  {
   "cell_type": "markdown",
   "metadata": {},
   "source": [
    "## Task 2:\n",
    "Implemented a prediction function that also returns classification."
   ]
  },
  {
   "cell_type": "code",
   "execution_count": 7,
   "metadata": {},
   "outputs": [],
   "source": [
    "\n",
    "\n",
    "def prediction( L, sigma_w, sigma_b, X_train, X_test,y_train, noise):\n",
    "    \"\"\"\"\n",
    "    input: L, sigma_w, sigma_b, X_train, X_test,y_train, noise\n",
    "    output: mean, var,classif\n",
    "    \n",
    "    The output is a tuple of three matrices: mean, var,classif\n",
    "    \"\"\"\n",
    "    #get the dimensions of the data as described in the notes\n",
    "    K,K_star_star,K_star= kernel(L, sigma_w, sigma_b, X_train, X_test)\n",
    "   \n",
    "    #invert K\n",
    "    K_inv = invert(K+noise*torch.eye(K.shape[0]))\n",
    "    \n",
    "   \n",
    "   \n",
    "    \n",
    "    #calculate mean\n",
    "    mean = K_star @ K_inv @ y_train\n",
    "\n",
    "    #calculate variance\n",
    "    var = K_star_star - K_star @ K_inv @ K_star.T\n",
    "   \n",
    "  \n",
    "    \n",
    " \n",
    "\n",
    "    #classification\n",
    "    threshold=0\n",
    "    classif = torch.where(mean > threshold, torch.tensor(0.5), torch.tensor(-0.5))\n",
    "    \n",
    "\n",
    "    return mean, var,classif\n",
    "\n",
    "\n",
    "def invert(K):\n",
    "    \"\"\"\"This function inverts a matrix using the Cholesky decomposition method\"\"\"\n",
    "    # Compute the Cholesky decomposition of K\n",
    "    L = torch.linalg.cholesky(K)\n",
    "    \n",
    "    # Create an identity matrix of the same size as K\n",
    "    identity_matrix = torch.eye(K.size(0), device=K.device, dtype=torch.float64)\n",
    "    \n",
    "    # Solve the system of linear equations to find the inverse\n",
    "    K_inv = torch.cholesky_solve(identity_matrix, L)\n",
    "    \n",
    "    return K_inv\n",
    "\n",
    "\n"
   ]
  },
  {
   "cell_type": "markdown",
   "metadata": {},
   "source": [
    "## Task 3:\n",
    "Analyse performance:\n",
    "\n",
    "Our hyperparameters are $\\sigma_w$ (array of size $L$) $\\sigma_b$ (array of size $L$) and $\\sigma_{\\text{noise}}$ (same for all layers).\n",
    "We use the method that is described in [Pang et al., NNGP PDE] [DOI: 10.13140/RG.2.2.35191.11681](https://doi.org/10.13140/RG.2.2.35191.11681) to optimize the hyperparameters using __scipy.optimize.minimize__. \n",
    "\n",
    "Our loss function is $$\\frac{1}{2}o^T{K^{-1}_{oo}(\\theta, \\sigma^2_{\\text{noise}})}o + \\frac{1}{2} \\log |K_{oo}(\\theta, \\sigma^2_{\\text{noise}})| + \\frac{N_o}{2} \\log 2\\pi$$\n",
    "where $o$ represents the training (observed) data labels $K_{oo}$ is $K(X,X)$.\n",
    "\n",
    "We also use the same sampler that was used in the paper. This is because we risk getting stuck in local minima, so attempting optimisation over multiple random starting points might give us better expration."
   ]
  },
  {
   "cell_type": "code",
   "execution_count": 31,
   "metadata": {},
   "outputs": [
    {
     "name": "stderr",
     "output_type": "stream",
     "text": [
      "c:\\Users\\Sorina\\anaconda3\\Lib\\site-packages\\numpy\\linalg\\linalg.py:2139: RuntimeWarning: overflow encountered in det\n",
      "  r = _umath_linalg.det(a, signature=signature)\n",
      "c:\\Users\\Sorina\\anaconda3\\Lib\\site-packages\\scipy\\optimize\\_numdiff.py:576: RuntimeWarning: invalid value encountered in subtract\n",
      "  df = fun(x) - f0\n"
     ]
    },
    {
     "name": "stdout",
     "output_type": "stream",
     "text": [
      "2831.1233357472292 [3.73878712e+00 1.70297715e+00 2.06115028e+00 1.70202503e+00\n",
      " 2.16677665e+01 1.88217400e+00 2.82309611e+00 1.70272867e+00\n",
      " 4.70584781e+00 1.75204964e+00 4.71396904e-01 9.24049555e-01\n",
      " 1.23968187e-01 6.00987131e-01 3.47768100e-01 8.46030799e-01\n",
      " 2.21132140e-01 7.20788571e-01 4.70811523e-01 9.70899814e-01\n",
      " 2.00000000e-02]\n"
     ]
    }
   ],
   "source": [
    "from scipy.optimize import minimize\n",
    "from scipy.stats import qmc\n",
    "from sklearn.model_selection import train_test_split\n",
    "L = 10\n",
    "\n",
    "#sampler = qmc.Halton(d=1, scramble=False)\n",
    "sampler = qmc.Halton(d=1, scramble=False)\n",
    "sampler.fast_forward(100)\n",
    "\n",
    "# Define the negative log marginal likelihood function\n",
    "def nlml(theta, L,X_train, X_test,y_train,N0):\n",
    "    \"\"\"\n",
    "    input: theta, L,X_train, X_test,y_train,N0\n",
    "    output: Loss function\"\"\"\n",
    "    #extract the hyperparameters from the big vector theta\n",
    "    sigma_w=theta[0:L]\n",
    "    sigma_b=theta[L:2*L]\n",
    "    noise=theta[2*L]\n",
    "\n",
    "    #compute the kernel K_oo\n",
    "    K,K1,K2=kernel(L,sigma_w,sigma_b,X_train,X_test)\n",
    "\n",
    "    #invert K\n",
    "    K_inv=invert(K+noise*torch.eye(K.shape[0])).detach().numpy()\n",
    "  \n",
    "    #compute the determinant of K\n",
    "    K=K.detach().numpy()\n",
    "    DET = np.linalg.det(K+noise*np.eye(K.shape[0]))\n",
    "    #bound the determinant, this avoids overflow and avoids minizing solely for the determinant\n",
    "    DET = np.maximum(DET, 1e-50)\n",
    "\n",
    "    #compute the negative log marginal likelihood\n",
    "    return 1/2*y_train.T@K_inv@y_train +(1/2)*np.log(DET)+(N0/2)*np.log(2*np.pi)\n",
    "\n",
    "#initialize the bounds for the hyperparameters, noise has a lower bound of 0.001 to avoid numerical instability\n",
    "BOUNDS = [(0,None)]*(2*L) + [(0.001,0.02)]\n",
    "\n",
    "#initialize the list of possible hyperparameters\n",
    "pars = []\n",
    "\n",
    "#sample 10 different hyperparameters\n",
    "for _ in range(10):\n",
    "    #initialize\n",
    "    theta = sampler.random(2 * L + 1).reshape(-1)\n",
    "    X, y = trainset_data, trainset_targets\n",
    "    X_train, X_test, y_train, y_test = train_test_split(X, y, test_size=0.2, random_state=42,shuffle=True)\n",
    "    N0 = X_train.shape[1]\n",
    "\n",
    "    #minimize the negative log marginal likelihood\n",
    "    par=minimize(nlml,theta,(L,X_train,X_test,y_train,N0), options = {\"eps\":10e-4,\"maxfun\":500},method='L-BFGS-B',bounds=BOUNDS)\n",
    "\n",
    "    #store the hyperparameters\n",
    "    pars.append(par)\n",
    "\n",
    "#compute the best hyperparameters\n",
    "mp = 1000000\n",
    "best_par = pars[0]\n",
    "for par in pars:\n",
    "    if par.fun <= mp:\n",
    "        mp = par.fun\n",
    "        best_par = par\n",
    "print(best_par.fun, best_par.x)\n",
    "theta = best_par.x\n",
    "\n"
   ]
  },
  {
   "cell_type": "code",
   "execution_count": 32,
   "metadata": {},
   "outputs": [
    {
     "name": "stdout",
     "output_type": "stream",
     "text": [
      "sigma_w: 3.739 | sigma_b: 0.4714 | sigma_noise: 0.02\n",
      "sigma_w: 1.703 | sigma_b: 0.924 | sigma_noise: 0.02\n",
      "sigma_w: 2.061 | sigma_b: 0.124 | sigma_noise: 0.02\n",
      "sigma_w: 1.702 | sigma_b: 0.601 | sigma_noise: 0.02\n",
      "sigma_w: 21.67 | sigma_b: 0.3478 | sigma_noise: 0.02\n",
      "sigma_w: 1.882 | sigma_b: 0.846 | sigma_noise: 0.02\n",
      "sigma_w: 2.823 | sigma_b: 0.2211 | sigma_noise: 0.02\n",
      "sigma_w: 1.703 | sigma_b: 0.7208 | sigma_noise: 0.02\n",
      "sigma_w: 4.706 | sigma_b: 0.4708 | sigma_noise: 0.02\n",
      "sigma_w: 1.752 | sigma_b: 0.9709 | sigma_noise: 0.02\n"
     ]
    }
   ],
   "source": [
    "for layer in range(L):\n",
    "    print(f'sigma_w: {theta[layer]:0.4} | sigma_b: {theta[L+layer]:0.4} | sigma_noise: {theta[2*L]:0.4}')\n",
    "\n"
   ]
  },
  {
   "cell_type": "markdown",
   "metadata": {},
   "source": [
    "We notice how the minimiser prefers a value of noise closer to the maximum one allocated, which is $0.02$. $\\sigma_w$ values tend to stay greater than $1$, usually between $1.5$ and $3$. The $\\sigma_b$ values stay between $0$ and $1$ in a seemingly randomly distributed manner."
   ]
  },
  {
   "cell_type": "code",
   "execution_count": 33,
   "metadata": {},
   "outputs": [
    {
     "name": "stdout",
     "output_type": "stream",
     "text": [
      "Accuracy with 1 layers: 0.78\n",
      "Accuracy with 2 layers: 0.78\n",
      "Accuracy with 3 layers: 0.775\n",
      "Accuracy with 4 layers: 0.775\n"
     ]
    },
    {
     "name": "stdout",
     "output_type": "stream",
     "text": [
      "Accuracy with 5 layers: 0.77\n",
      "Accuracy with 6 layers: 0.765\n",
      "Accuracy with 7 layers: 0.765\n",
      "Accuracy with 8 layers: 0.765\n",
      "Accuracy with 9 layers: 0.765\n",
      "Accuracy with 10 layers: 0.775\n"
     ]
    }
   ],
   "source": [
    "\n",
    "X, y =  trainset_data, trainset_targets\n",
    "X_train, X_test, y_train, y_test = train_test_split(X, y, test_size=0.2, random_state=42, shuffle=True)\n",
    "\n",
    "L = 10\n",
    "sigma_w = theta[:L]\n",
    "sigma_b = theta[L:2*L]\n",
    "noise = theta[-1]\n",
    "L_set = [1,2,3,4,5,6,7,8,9,10]\n",
    "\n",
    "for L in L_set:\n",
    "    # Predict the labels\n",
    "    mean, cov, classif= prediction(L=L, sigma_w=sigma_w, sigma_b=sigma_b, X_train=X_train, X_test=X_test, y_train=y_train, noise=noise)\n",
    "    #print (y_train,classif.detach().numpy())\n",
    "    correct = (y_test == classif.detach().numpy()).sum().item()\n",
    "\n",
    "    # Compute the total number of predictions\n",
    "    total = y_test.shape[0]\n",
    "\n",
    "    # Compute the accuracy\n",
    "    accuracy = correct / total\n",
    "    print(f\"Accuracy with {L} layers: {accuracy}\")\n"
   ]
  },
  {
   "cell_type": "markdown",
   "metadata": {},
   "source": [
    "Accuracy stays in the same range in this example. The model exhibit high stochasticity. Either the accuracy increases by small amounts between $0.05$ and $0.15$ per layer, or it decreases at the beginning and catches up to the initial value. The highest increase I got was from $0.825$ to $0.85$. The number of layers does not guarantee an increase in accuracy."
   ]
  },
  {
   "cell_type": "markdown",
   "metadata": {},
   "source": [
    "## Task 4:\n",
    "Analyse uncertainty:\n",
    "\n",
    "\n",
    "The covariance matrix displays the correlated uncertainities of the test samples. Specifically, in the context of Gaussian Processes (GPs), a high covariance between two variables means that there is greater uncertainty in predicting one variable given the other variable. This can occur when the two variables are strongly related or dependent on each other, so knowing the value of one variable provides valuable information about the value of the other variable. However, it's essential to note that covariance alone does not provide information about the scale or magnitude of uncertainty.  It's crucial to consider it in conjunction with other factors, such as the variances of the variables and their magnitudes."
   ]
  },
  {
   "cell_type": "code",
   "execution_count": 41,
   "metadata": {},
   "outputs": [
    {
     "data": {
      "image/png": "[encoded data removed]",
      "text/plain": [
       "<Figure size 200x200 with 1 Axes>"
      ]
     },
     "metadata": {},
     "output_type": "display_data"
    },
    {
     "data": {
      "image/png": "[encoded data removed]",
      "text/plain": [
       "<Figure size 200x200 with 1 Axes>"
      ]
     },
     "metadata": {},
     "output_type": "display_data"
    },
    {
     "data": {
      "image/png": "[encoded data removed]",
      "text/plain": [
       "<Figure size 200x200 with 1 Axes>"
      ]
     },
     "metadata": {},
     "output_type": "display_data"
    },
    {
     "data": {
      "image/png": "[encoded data removed]",
      "text/plain": [
       "<Figure size 200x200 with 1 Axes>"
      ]
     },
     "metadata": {},
     "output_type": "display_data"
    },
    {
     "name": "stdout",
     "output_type": "stream",
     "text": [
      "tensor(1.7080, dtype=torch.float64) tensor(1.7080, dtype=torch.float64) tensor(1.7080, dtype=torch.float64) tensor(0.9662, dtype=torch.float64) tensor(-0.0492, dtype=torch.float64)\n"
     ]
    }
   ],
   "source": [
    "\n",
    "# Find the indices of the maximum and minimum values\n",
    "max_indices = np.unravel_index(np.argsort(cov, axis=None)[-1], cov.shape)\n",
    "min_indices = np.unravel_index(np.argsort(cov, axis=None)[0], cov.shape)\n",
    "\n",
    "\n",
    "\n",
    "# Combine the indices\n",
    "\n",
    "indices=[max_indices[0],max_indices[1],min_indices[0],min_indices[1]]\n",
    "\n",
    "# Iterate over the indices\n",
    "for index in indices:\n",
    "    # Get the current index\n",
    "    \n",
    "    # Get the corresponding image\n",
    "    image = X_test[index].reshape((32, 32, 3))\n",
    "    \n",
    "    # Create a new figure with a specific size (in inches)\n",
    "    plt.figure(figsize=(2, 2))\n",
    "\n",
    "    # Plot the image\n",
    "    plt.imshow(image)\n",
    "    plt.show()\n",
    "print(cov[max_indices[0],max_indices[0]],cov[max_indices[1],max_indices[1]],cov[min_indices[0],min_indices[0]],cov[min_indices[1],min_indices[1]],cov[min_indices[0],min_indices[1]])\n"
   ]
  },
  {
   "cell_type": "markdown",
   "metadata": {},
   "source": [
    "These two pairs of images exhibit the lowest, respectively the highest correlated uncertainties.  In other words,  in the first pair: one image is from a class depends on whether the other image is from its class. In the second pair: one image is from a class depends whether the other image is from the opposite class.\n",
    "\n",
    "The magnitude of variances can predict the magnitude of uncertainty. Both cases have high varainces, so here the uncertainty is low."
   ]
  },
  {
   "cell_type": "code",
   "execution_count": 35,
   "metadata": {},
   "outputs": [],
   "source": [
    "\n",
    "def diagonal_matrix(A):\n",
    "\n",
    "    \"\"\"This function creates a matrix that mainains the diagonals values and changes off diagonals to 0.5 from a given matrix A\"\"\"\n",
    "    # Get the diagonal elements of A\n",
    "    diagonal_elements = np.diag(A)\n",
    "\n",
    "    # Create a new matrix with zeros\n",
    "    diagonal_matrix = np.ones_like(A)/2\n",
    "\n",
    "    # Set the diagonal elements of the new matrix\n",
    "    np.fill_diagonal(diagonal_matrix, diagonal_elements)\n",
    "\n",
    "    return diagonal_matrix\n",
    "\n"
   ]
  },
  {
   "cell_type": "code",
   "execution_count": 38,
   "metadata": {},
   "outputs": [
    {
     "data": {
      "image/png": "[encoded data removed]",
      "text/plain": [
       "<Figure size 200x200 with 1 Axes>"
      ]
     },
     "metadata": {},
     "output_type": "display_data"
    },
    {
     "data": {
      "image/png": "[encoded data removed]",
      "text/plain": [
       "<Figure size 200x200 with 1 Axes>"
      ]
     },
     "metadata": {},
     "output_type": "display_data"
    },
    {
     "name": "stdout",
     "output_type": "stream",
     "text": [
      "tensor(-0.5000) tensor(-0.5000)\n"
     ]
    }
   ],
   "source": [
    "\"\"\" we display the images with the lowest and  highest certainties\"\"\"\n",
    "A=diagonal_matrix(cov)\n",
    "# Find the indices of the maximum and minimum values\n",
    "max_indices = np.unravel_index(np.argsort(A, axis=None)[-1], cov.shape)\n",
    "min_indices = np.unravel_index(np.argsort(A, axis=None)[0], cov.shape)\n",
    "\n",
    "\n",
    "\n",
    "\n",
    "# Combine the indices\n",
    "\n",
    "indices=[max_indices[0],max_indices[1],min_indices[0],min_indices[1]]\n",
    "\n",
    "\n",
    "\n",
    "image = X_test[indices[0]].reshape((32, 32, 3))\n",
    "\n",
    "# Create a new figure with a specific size (in inches)\n",
    "plt.figure(figsize=(2, 2))\n",
    "\n",
    "# Plot the image\n",
    "plt.imshow(image)\n",
    "plt.show()\n",
    "\n",
    "image = X_test[indices[2]].reshape((32, 32, 3))\n",
    "# Create a new figure with a specific size (in inches)\n",
    "plt.figure(figsize=(2, 2))\n",
    "\n",
    "# Plot the image\n",
    "plt.imshow(image)\n",
    "plt.show()\n",
    "print(classif[indices[0]],classif[indices[2]])"
   ]
  },
  {
   "cell_type": "markdown",
   "metadata": {},
   "source": [
    "In this case we plotted the imagest with the highest and lowest variances respectively. In other words, we are most certain that the first image is a cat but cannot tell whether the second image is a cat or a truck."
   ]
  },
  {
   "cell_type": "markdown",
   "metadata": {},
   "source": [
    "# Task 5:\n",
    "Computational cost analysis\n",
    "\n",
    "We implemented an algorithm that has cubic complexity with respect to the sample size given by the calculation of the inverse of the kernel. Even thought we managed to obtain a python linear implementation in the rest of the code, the run time will depend on the data size. It becomes less feasible for data of size $10^4$ especially when calculating the optimal parameters using scipy.opimize.minimize.\n"
   ]
  }
 ],
 "metadata": {
  "kernelspec": {
   "display_name": "Python 3",
   "language": "python",
   "name": "python3"
  },
  "language_info": {
   "codemirror_mode": {
    "name": "ipython",
    "version": 3
   },
   "file_extension": ".py",
   "mimetype": "text/x-python",
   "name": "python",
   "nbconvert_exporter": "python",
   "pygments_lexer": "ipython3",
   "version": "3.11.5"
  }
 },
 "nbformat": 4,
 "nbformat_minor": 2
}
